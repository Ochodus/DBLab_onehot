{
  "cells": [
    {
      "cell_type": "code",
      "source": [
        "from google.colab import drive\n",
        "drive.mount('/content/drive')"
      ],
      "metadata": {
        "colab": {
          "base_uri": "https://localhost:8080/"
        },
        "id": "cKS6m2V122OA",
        "outputId": "a5577c76-bfac-4f8b-fb11-619b8cbde391"
      },
      "execution_count": 1,
      "outputs": [
        {
          "output_type": "stream",
          "name": "stdout",
          "text": [
            "Mounted at /content/drive\n"
          ]
        }
      ]
    },
    {
      "cell_type": "code",
      "execution_count": 35,
      "metadata": {
        "id": "VtYFaAJg_GYZ"
      },
      "outputs": [],
      "source": [
        "import pandas as pd\n",
        "import numpy as np\n",
        "import warnings \n",
        "warnings.filterwarnings(action='ignore')\n",
        "import numpy as np\n",
        "import tensorflow as tf\n",
        "from tensorflow.keras.preprocessing.sequence import pad_sequences\n",
        "from tensorflow.keras.preprocessing.text import Tokenizer\n",
        "from sklearn import svm\n",
        "from sklearn import model_selection, naive_bayes, svm\n",
        "from sklearn.metrics import accuracy_score, precision_score, recall_score, confusion_matrix, f1_score\n",
        "from sklearn import tree\n",
        "from sklearn.model_selection import train_test_split\n",
        "import random"
      ]
    },
    {
      "cell_type": "code",
      "execution_count": 3,
      "metadata": {
        "id": "UMEsfA8J_GYZ"
      },
      "outputs": [],
      "source": [
        "data_subset = pd.read_excel('drive/MyDrive/DBLab_Onehot/subset_data.xlsx') #확장 데이터\n",
        "data_original = pd.read_excel('drive/MyDrive/DBLab_Onehot/mental_health_medical_data.xlsx') #기존 데이터"
      ]
    },
    {
      "cell_type": "code",
      "source": [
        "data = pd.concat([data_subset, data_original]) #stratify 오류 방지를 위해 각 라벨 별로 최소 2개 이상의 데이터를 가지기 위한 concat"
      ],
      "metadata": {
        "id": "sB8ku-cWAaWa"
      },
      "execution_count": 4,
      "outputs": []
    },
    {
      "cell_type": "code",
      "execution_count": 5,
      "metadata": {
        "id": "QbaHPaMf_GYZ"
      },
      "outputs": [],
      "source": [
        "# 증상의 문자열 벗기기 함수\n",
        "def listing(x):\n",
        "    x = eval(x)\n",
        "    return x\n",
        "\n",
        "#모델 예측 정확도를 구하기 위한 간단한 함수\n",
        "def getAccuracy(prediction, target):\n",
        "  count = 0\n",
        "  for x, y in zip(prediction, target):\n",
        "    if x == y:\n",
        "      count += 1  \n",
        "  return count/len(prediction) * 100\n",
        "\n",
        "def get_clf_eval(y_test, pred):\n",
        "  accuracy = accuracy_score(y_test, pred)\n",
        "  f1 = f1_score(y_test, pred, average='weighted')\n",
        "  return (accuracy, f1)"
      ]
    },
    {
      "cell_type": "code",
      "source": [
        "data['symptoms'] = data['symptoms'].apply(listing)"
      ],
      "metadata": {
        "id": "IyKDTOLpxGXU"
      },
      "execution_count": 6,
      "outputs": []
    },
    {
      "cell_type": "code",
      "execution_count": 7,
      "metadata": {
        "id": "bM-nAoOW_GYb",
        "outputId": "50eebafb-3427-4b5a-d164-e69f01e56fb4",
        "colab": {
          "base_uri": "https://localhost:8080/"
        }
      },
      "outputs": [
        {
          "output_type": "stream",
          "name": "stdout",
          "text": [
            "인코딩 변환값: [ 0  2  2 ... 11 58  4]\n"
          ]
        }
      ],
      "source": [
        "#레이블 인코딩(타겟 문자열 불가)\n",
        "from sklearn.preprocessing import LabelEncoder\n",
        "items = data['disease']\n",
        "encoder = LabelEncoder()\n",
        "encoder.fit(items)\n",
        "labels = encoder.transform(items)\n",
        "\n",
        "print('인코딩 변환값:',labels)"
      ]
    },
    {
      "cell_type": "code",
      "execution_count": 8,
      "metadata": {
        "id": "3cOTXFlX_GYb",
        "outputId": "2bafb6dc-6015-41f0-fe2b-9674318a00a8",
        "colab": {
          "base_uri": "https://localhost:8080/",
          "height": 658
        }
      },
      "outputs": [
        {
          "output_type": "execute_result",
          "data": {
            "text/plain": [
              "    Unnamed: 0     disease                                           symptoms  \\\n",
              "0          0.0       강박 장애                                  [불안, 반복적인 동작, 의심]   \n",
              "1          1.0    경계성 인격장애  [의심, 약물남용, 대인관계 어려움, 조절할 수 없는 충동감, 자살의 위험, 우울,...   \n",
              "2          2.0    경계성 인격장애     [의심, 약물남용, 대인관계 어려움, 조절할 수 없는 충동감, 자살의 위험, 우울]   \n",
              "3          3.0    경계성 인격장애         [약물남용, 대인관계 어려움, 조절할 수 없는 충동감, 자살의 위험, 우울]   \n",
              "4          4.0    경계성 인격장애           [의심, 대인관계 어려움, 조절할 수 없는 충동감, 자살의 위험, 우울]   \n",
              "..         ...         ...                                                ...   \n",
              "59        59.0      혈관성 치매                            [언어장애, 인지장애, 감각 이상, 마비]   \n",
              "60        60.0  히스테리성 인격장애                                                 []   \n",
              "61        61.0      레트 증후군                        [상동적 행동, 인지장애, 운동장애, 정신 지체]   \n",
              "62        62.0       폐소공포증                                 [불안, 좁은 공간에서의 불안감]   \n",
              "63        63.0     과호흡 증후군  [흉부압박감, 불안, 의식 변화, 인지장애, 복부팽만감, 부정맥, 호흡곤란, 복부 ...   \n",
              "\n",
              "   department  \n",
              "0     정신건강의학과  \n",
              "1     정신건강의학과  \n",
              "2     정신건강의학과  \n",
              "3     정신건강의학과  \n",
              "4     정신건강의학과  \n",
              "..        ...  \n",
              "59    정신건강의학과  \n",
              "60    정신건강의학과  \n",
              "61    정신건강의학과  \n",
              "62    정신건강의학과  \n",
              "63    정신건강의학과  \n",
              "\n",
              "[78822 rows x 4 columns]"
            ],
            "text/html": [
              "\n",
              "  <div id=\"df-d3f86787-585d-47c9-bb95-644e4b3197ad\">\n",
              "    <div class=\"colab-df-container\">\n",
              "      <div>\n",
              "<style scoped>\n",
              "    .dataframe tbody tr th:only-of-type {\n",
              "        vertical-align: middle;\n",
              "    }\n",
              "\n",
              "    .dataframe tbody tr th {\n",
              "        vertical-align: top;\n",
              "    }\n",
              "\n",
              "    .dataframe thead th {\n",
              "        text-align: right;\n",
              "    }\n",
              "</style>\n",
              "<table border=\"1\" class=\"dataframe\">\n",
              "  <thead>\n",
              "    <tr style=\"text-align: right;\">\n",
              "      <th></th>\n",
              "      <th>Unnamed: 0</th>\n",
              "      <th>disease</th>\n",
              "      <th>symptoms</th>\n",
              "      <th>department</th>\n",
              "    </tr>\n",
              "  </thead>\n",
              "  <tbody>\n",
              "    <tr>\n",
              "      <th>0</th>\n",
              "      <td>0.0</td>\n",
              "      <td>강박 장애</td>\n",
              "      <td>[불안, 반복적인 동작, 의심]</td>\n",
              "      <td>정신건강의학과</td>\n",
              "    </tr>\n",
              "    <tr>\n",
              "      <th>1</th>\n",
              "      <td>1.0</td>\n",
              "      <td>경계성 인격장애</td>\n",
              "      <td>[의심, 약물남용, 대인관계 어려움, 조절할 수 없는 충동감, 자살의 위험, 우울,...</td>\n",
              "      <td>정신건강의학과</td>\n",
              "    </tr>\n",
              "    <tr>\n",
              "      <th>2</th>\n",
              "      <td>2.0</td>\n",
              "      <td>경계성 인격장애</td>\n",
              "      <td>[의심, 약물남용, 대인관계 어려움, 조절할 수 없는 충동감, 자살의 위험, 우울]</td>\n",
              "      <td>정신건강의학과</td>\n",
              "    </tr>\n",
              "    <tr>\n",
              "      <th>3</th>\n",
              "      <td>3.0</td>\n",
              "      <td>경계성 인격장애</td>\n",
              "      <td>[약물남용, 대인관계 어려움, 조절할 수 없는 충동감, 자살의 위험, 우울]</td>\n",
              "      <td>정신건강의학과</td>\n",
              "    </tr>\n",
              "    <tr>\n",
              "      <th>4</th>\n",
              "      <td>4.0</td>\n",
              "      <td>경계성 인격장애</td>\n",
              "      <td>[의심, 대인관계 어려움, 조절할 수 없는 충동감, 자살의 위험, 우울]</td>\n",
              "      <td>정신건강의학과</td>\n",
              "    </tr>\n",
              "    <tr>\n",
              "      <th>...</th>\n",
              "      <td>...</td>\n",
              "      <td>...</td>\n",
              "      <td>...</td>\n",
              "      <td>...</td>\n",
              "    </tr>\n",
              "    <tr>\n",
              "      <th>59</th>\n",
              "      <td>59.0</td>\n",
              "      <td>혈관성 치매</td>\n",
              "      <td>[언어장애, 인지장애, 감각 이상, 마비]</td>\n",
              "      <td>정신건강의학과</td>\n",
              "    </tr>\n",
              "    <tr>\n",
              "      <th>60</th>\n",
              "      <td>60.0</td>\n",
              "      <td>히스테리성 인격장애</td>\n",
              "      <td>[]</td>\n",
              "      <td>정신건강의학과</td>\n",
              "    </tr>\n",
              "    <tr>\n",
              "      <th>61</th>\n",
              "      <td>61.0</td>\n",
              "      <td>레트 증후군</td>\n",
              "      <td>[상동적 행동, 인지장애, 운동장애, 정신 지체]</td>\n",
              "      <td>정신건강의학과</td>\n",
              "    </tr>\n",
              "    <tr>\n",
              "      <th>62</th>\n",
              "      <td>62.0</td>\n",
              "      <td>폐소공포증</td>\n",
              "      <td>[불안, 좁은 공간에서의 불안감]</td>\n",
              "      <td>정신건강의학과</td>\n",
              "    </tr>\n",
              "    <tr>\n",
              "      <th>63</th>\n",
              "      <td>63.0</td>\n",
              "      <td>과호흡 증후군</td>\n",
              "      <td>[흉부압박감, 불안, 의식 변화, 인지장애, 복부팽만감, 부정맥, 호흡곤란, 복부 ...</td>\n",
              "      <td>정신건강의학과</td>\n",
              "    </tr>\n",
              "  </tbody>\n",
              "</table>\n",
              "<p>78822 rows × 4 columns</p>\n",
              "</div>\n",
              "      <button class=\"colab-df-convert\" onclick=\"convertToInteractive('df-d3f86787-585d-47c9-bb95-644e4b3197ad')\"\n",
              "              title=\"Convert this dataframe to an interactive table.\"\n",
              "              style=\"display:none;\">\n",
              "        \n",
              "  <svg xmlns=\"http://www.w3.org/2000/svg\" height=\"24px\"viewBox=\"0 0 24 24\"\n",
              "       width=\"24px\">\n",
              "    <path d=\"M0 0h24v24H0V0z\" fill=\"none\"/>\n",
              "    <path d=\"M18.56 5.44l.94 2.06.94-2.06 2.06-.94-2.06-.94-.94-2.06-.94 2.06-2.06.94zm-11 1L8.5 8.5l.94-2.06 2.06-.94-2.06-.94L8.5 2.5l-.94 2.06-2.06.94zm10 10l.94 2.06.94-2.06 2.06-.94-2.06-.94-.94-2.06-.94 2.06-2.06.94z\"/><path d=\"M17.41 7.96l-1.37-1.37c-.4-.4-.92-.59-1.43-.59-.52 0-1.04.2-1.43.59L10.3 9.45l-7.72 7.72c-.78.78-.78 2.05 0 2.83L4 21.41c.39.39.9.59 1.41.59.51 0 1.02-.2 1.41-.59l7.78-7.78 2.81-2.81c.8-.78.8-2.07 0-2.86zM5.41 20L4 18.59l7.72-7.72 1.47 1.35L5.41 20z\"/>\n",
              "  </svg>\n",
              "      </button>\n",
              "      \n",
              "  <style>\n",
              "    .colab-df-container {\n",
              "      display:flex;\n",
              "      flex-wrap:wrap;\n",
              "      gap: 12px;\n",
              "    }\n",
              "\n",
              "    .colab-df-convert {\n",
              "      background-color: #E8F0FE;\n",
              "      border: none;\n",
              "      border-radius: 50%;\n",
              "      cursor: pointer;\n",
              "      display: none;\n",
              "      fill: #1967D2;\n",
              "      height: 32px;\n",
              "      padding: 0 0 0 0;\n",
              "      width: 32px;\n",
              "    }\n",
              "\n",
              "    .colab-df-convert:hover {\n",
              "      background-color: #E2EBFA;\n",
              "      box-shadow: 0px 1px 2px rgba(60, 64, 67, 0.3), 0px 1px 3px 1px rgba(60, 64, 67, 0.15);\n",
              "      fill: #174EA6;\n",
              "    }\n",
              "\n",
              "    [theme=dark] .colab-df-convert {\n",
              "      background-color: #3B4455;\n",
              "      fill: #D2E3FC;\n",
              "    }\n",
              "\n",
              "    [theme=dark] .colab-df-convert:hover {\n",
              "      background-color: #434B5C;\n",
              "      box-shadow: 0px 1px 3px 1px rgba(0, 0, 0, 0.15);\n",
              "      filter: drop-shadow(0px 1px 2px rgba(0, 0, 0, 0.3));\n",
              "      fill: #FFFFFF;\n",
              "    }\n",
              "  </style>\n",
              "\n",
              "      <script>\n",
              "        const buttonEl =\n",
              "          document.querySelector('#df-d3f86787-585d-47c9-bb95-644e4b3197ad button.colab-df-convert');\n",
              "        buttonEl.style.display =\n",
              "          google.colab.kernel.accessAllowed ? 'block' : 'none';\n",
              "\n",
              "        async function convertToInteractive(key) {\n",
              "          const element = document.querySelector('#df-d3f86787-585d-47c9-bb95-644e4b3197ad');\n",
              "          const dataTable =\n",
              "            await google.colab.kernel.invokeFunction('convertToInteractive',\n",
              "                                                     [key], {});\n",
              "          if (!dataTable) return;\n",
              "\n",
              "          const docLinkHtml = 'Like what you see? Visit the ' +\n",
              "            '<a target=\"_blank\" href=https://colab.research.google.com/notebooks/data_table.ipynb>data table notebook</a>'\n",
              "            + ' to learn more about interactive tables.';\n",
              "          element.innerHTML = '';\n",
              "          dataTable['output_type'] = 'display_data';\n",
              "          await google.colab.output.renderOutput(dataTable, element);\n",
              "          const docLink = document.createElement('div');\n",
              "          docLink.innerHTML = docLinkHtml;\n",
              "          element.appendChild(docLink);\n",
              "        }\n",
              "      </script>\n",
              "    </div>\n",
              "  </div>\n",
              "  "
            ]
          },
          "metadata": {},
          "execution_count": 8
        }
      ],
      "source": [
        "data"
      ]
    },
    {
      "cell_type": "code",
      "execution_count": 9,
      "metadata": {
        "id": "V9QKIqaE_GYc"
      },
      "outputs": [],
      "source": [
        "X_train = np.array([x for x in data['symptoms']])\n",
        "Y_train = np.array(labels)"
      ]
    },
    {
      "cell_type": "code",
      "source": [
        "x_train, x_test, y_train, y_test = train_test_split(X_train, Y_train, test_size=0.2, shuffle=True, stratify = Y_train, random_state=34) #0.8의 학습데이터, 0.2의 테스트데이터로 분리"
      ],
      "metadata": {
        "id": "UIndTubJwDr4"
      },
      "execution_count": 10,
      "outputs": []
    },
    {
      "cell_type": "code",
      "source": [
        "x_test"
      ],
      "metadata": {
        "colab": {
          "base_uri": "https://localhost:8080/"
        },
        "id": "qqUj3Ox8LpiC",
        "outputId": "a0492727-7c59-4c33-ff77-140d1e0700dd"
      },
      "execution_count": 11,
      "outputs": [
        {
          "output_type": "execute_result",
          "data": {
            "text/plain": [
              "array([list(['온몸이 떨림', '생리불순', '손떨림', '가슴 두근거림', '얼굴이 화끈거림', '구강건조', '권태감', '구토', '가슴 쓰림', '복부팽만감']),\n",
              "       list(['얼굴이 화끈거림', '근육통', '두통']),\n",
              "       list(['온몸이 떨림', '오심', '생리불순', '가슴 답답', '가슴 두근거림', '얼굴이 화끈거림', '복부팽만감', '어지러움', '저림']),\n",
              "       ..., list(['오심', '얼굴이 화끈거림', '권태감', '가슴 쓰림', '복부팽만감', '두통']),\n",
              "       list(['손떨림', '가슴 답답', '가슴 두근거림', '얼굴이 화끈거림', '구토', '저림']),\n",
              "       list(['오심', '가슴 답답', '가슴 두근거림', '얼굴이 화끈거림', '구강건조', '근육통', '구토', '가슴 쓰림', '복부팽만감', '두통', '저림'])],\n",
              "      dtype=object)"
            ]
          },
          "metadata": {},
          "execution_count": 11
        }
      ]
    },
    {
      "cell_type": "markdown",
      "metadata": {
        "id": "dZw4GQR-_GYd"
      },
      "source": [
        "# **모델링**"
      ]
    },
    {
      "cell_type": "code",
      "execution_count": 12,
      "metadata": {
        "id": "rvrfT2Ka_GYe"
      },
      "outputs": [],
      "source": [
        "#파라미터 설정\n",
        "vocab_size = 178\n",
        "embedding_dim = 8 # 임베딩 차원\n",
        "max_length = 17      # 증상 최대 개수 \n",
        "padding_type='post'"
      ]
    },
    {
      "cell_type": "code",
      "execution_count": 13,
      "metadata": {
        "id": "ql3lE6FL_GYe"
      },
      "outputs": [],
      "source": [
        "#tokenizer에 fit\n",
        "tokenizer = Tokenizer(num_words = vocab_size)#, oov_token=oov_tok)\n",
        "tokenizer.fit_on_texts(x_train)\n",
        "word_index = tokenizer.word_index"
      ]
    },
    {
      "cell_type": "code",
      "source": [
        "word_index"
      ],
      "metadata": {
        "id": "CsAIvKAV_Pke",
        "colab": {
          "base_uri": "https://localhost:8080/"
        },
        "outputId": "00e728d1-3ebf-4376-e429-a748b2db58d7"
      },
      "execution_count": 14,
      "outputs": [
        {
          "output_type": "execute_result",
          "data": {
            "text/plain": [
              "{'손떨림': 1,\n",
              " '가슴 두근거림': 2,\n",
              " '얼굴이 화끈거림': 3,\n",
              " '가슴 답답': 4,\n",
              " '온몸이 떨림': 5,\n",
              " '어지러움': 6,\n",
              " '두통': 7,\n",
              " '오심': 8,\n",
              " '구강건조': 9,\n",
              " '복부팽만감': 10,\n",
              " '구토': 11,\n",
              " '근육통': 12,\n",
              " '권태감': 13,\n",
              " '생리불순': 14,\n",
              " '가슴 쓰림': 15,\n",
              " '저림': 16,\n",
              " '불면증': 17,\n",
              " '환각': 18,\n",
              " '불안': 19,\n",
              " '환청': 20,\n",
              " '가슴 통증': 21,\n",
              " '기운없음': 22,\n",
              " '오한': 23,\n",
              " '발한': 24,\n",
              " '복시': 25,\n",
              " '서맥': 26,\n",
              " '숨막히는 느낌': 27,\n",
              " '고혈압': 28,\n",
              " '죽음에 대한 공포': 29,\n",
              " '저혈압': 30,\n",
              " '청색증': 31,\n",
              " '감정 변화': 32,\n",
              " '언어장애': 33,\n",
              " '초조함': 34,\n",
              " '섬망': 35,\n",
              " '혼돈': 36,\n",
              " '환시': 37,\n",
              " '수면장애': 38,\n",
              " '감각 이상': 39,\n",
              " '기억장애': 40,\n",
              " '피로감': 41,\n",
              " '실인증': 42,\n",
              " '목의 이물감': 43,\n",
              " '조급증': 44,\n",
              " '실행증': 45,\n",
              " '방향감각 상실': 46,\n",
              " '빈뇨': 47,\n",
              " '판단력장애': 48,\n",
              " '빈호흡': 49,\n",
              " '시력 감소': 50,\n",
              " '근육긴장': 51,\n",
              " '복부 불편감': 52,\n",
              " '낮은 자존감': 53,\n",
              " '의식 변화': 54,\n",
              " '대인관계 어려움': 55,\n",
              " '우울': 56,\n",
              " '망상': 57,\n",
              " '건망증': 58,\n",
              " '산만함': 59,\n",
              " '인지장애': 60,\n",
              " '수면 무호흡': 61,\n",
              " '인내심이 부족함': 62,\n",
              " '대화에 불쑥 끼어듬': 63,\n",
              " '복부 통증': 64,\n",
              " '수면 유지가 어려움': 65,\n",
              " '낮 시간대의 졸음': 66,\n",
              " '부정맥': 67,\n",
              " '수면 시작이 어려움': 68,\n",
              " '와해된 행동': 69,\n",
              " '수면 중 이상한 행동': 70,\n",
              " '호흡곤란': 71,\n",
              " '입수면기의 환각': 72,\n",
              " '수면 주기의 변화': 73,\n",
              " '흉부압박감': 74,\n",
              " '와해된 언어': 75,\n",
              " '수면 마비': 76,\n",
              " '피해망상': 77,\n",
              " '지남력 장애': 78,\n",
              " '노출증': 79,\n",
              " '체중감소': 80,\n",
              " '보행이상': 81,\n",
              " '접촉도착증': 82,\n",
              " '정서적 둔마': 83,\n",
              " '비정상적 성적 기호': 84,\n",
              " '말초 신경장애': 85,\n",
              " '무욕증': 86,\n",
              " '소아기호증': 87,\n",
              " '가학증': 88,\n",
              " '피학증': 89,\n",
              " '자살의 위험': 90,\n",
              " '식욕부진': 91,\n",
              " '조절할 수 없는 충동감': 92,\n",
              " '의심': 93,\n",
              " '폭식': 94,\n",
              " '무월경': 95,\n",
              " '삶에 대한 흥미 상실': 96,\n",
              " '수면 후에도 피로함': 97,\n",
              " '자제력 상실 두려움': 98,\n",
              " '약물남용': 99,\n",
              " '성격의변화': 100,\n",
              " '왜곡된 신체상': 101,\n",
              " '낮은 학업 성취': 102,\n",
              " '충동 조절 어려움': 103,\n",
              " '낮은 지능': 104,\n",
              " '긴장': 105,\n",
              " '몽유병': 106,\n",
              " '피부 긴장도 저하': 107,\n",
              " '우유부단함': 108,\n",
              " '에너지가 적음': 109,\n",
              " '광과민성': 110,\n",
              " '반신마비': 111,\n",
              " '시야장애': 112,\n",
              " '정신 지체': 113,\n",
              " '높아진 자존심': 114,\n",
              " '발기부전': 115,\n",
              " '사회성 부족': 116,\n",
              " '읽기 자체의 문제': 117,\n",
              " '읽으려 하지 않음': 118,\n",
              " '눈의 피로': 119,\n",
              " '위험한 행동 반복': 120,\n",
              " '행동장애': 121,\n",
              " '변실금': 122,\n",
              " '비현실감': 123,\n",
              " '말을 많이 함': 124,\n",
              " '애착 상대와 분리 거부': 125,\n",
              " '이상한 소리를 냄': 126,\n",
              " '비정상적인 움직임': 127,\n",
              " '원한': 128,\n",
              " '권리를 강하게 주장': 129,\n",
              " '이상행동': 130,\n",
              " '상동적 행동': 131,\n",
              " '말더듬': 132,\n",
              " '직무 태만': 133,\n",
              " '나쁜 품행': 134,\n",
              " '읽기': 135,\n",
              " '쓰기 능력 부족': 136,\n",
              " '좁은 공간에서의 불안감': 137,\n",
              " '설사': 138,\n",
              " '반복적인 동작': 139,\n",
              " '이성의 옷을 착용함': 140,\n",
              " '정서장애': 141,\n",
              " '관음증': 142,\n",
              " '오후 우울감 완화': 143,\n",
              " '이인증': 144,\n",
              " '병원 쇼핑': 145,\n",
              " '질병에 대한 공포': 146,\n",
              " '마비': 147,\n",
              " '다리 통증': 148,\n",
              " '체중증가': 149,\n",
              " '반사회적 인격장애': 150,\n",
              " '금단증상': 151,\n",
              " '흥분': 152,\n",
              " '거짓 증상 호소': 153,\n",
              " '손발을 계속 움직임': 154,\n",
              " '희망이 없는 느낌': 155,\n",
              " '걸핏하면 눈물지음': 156,\n",
              " '질투': 157,\n",
              " '감각 과민': 158,\n",
              " '신경과민': 159,\n",
              " '충동적 도벽': 160,\n",
              " '고정된 믿음': 161,\n",
              " '운동장애': 162,\n",
              " '거칠어진 피부': 163,\n",
              " '사회적 고립': 164,\n",
              " '수면 중 보행': 165,\n",
              " '깨어나면 기억하지 못함': 166,\n",
              " '눈의 충혈': 167,\n",
              " '무논리증': 168,\n",
              " '정체감 혼란 및 변형': 169,\n",
              " '비관주의': 170,\n",
              " '강박증': 171,\n",
              " '음식섭취 거부': 172,\n",
              " '정서 및 행동의 일탈': 173,\n",
              " '저체중': 174,\n",
              " '야만적 행위': 175,\n",
              " '안구진탕': 176,\n",
              " '사고의 비약': 177}"
            ]
          },
          "metadata": {},
          "execution_count": 14
        }
      ]
    },
    {
      "cell_type": "markdown",
      "source": [
        "# ***테스트 데이터셋 변형***"
      ],
      "metadata": {
        "id": "6twLS07QZS2P"
      }
    },
    {
      "cell_type": "code",
      "source": [
        "#테스트 데이터셋에 기존 증상을 제외한 일치하지 않는 증상 랜덤으로 추가\n",
        "def add_offset(y_test, x_test):\n",
        "  for disease, symptoms in zip(y_test, x_test):\n",
        "    disease_name =  encoder.classes_[disease]\n",
        "    ind = -1\n",
        "    for index, i in enumerate(data_original['disease']):\n",
        "      if disease_name == i:\n",
        "        ind = index\n",
        "    flag = True\n",
        "    while flag:\n",
        "      rand_ind = randint(1, 177)\n",
        "      for k, symp in enumerate(word_index):\n",
        "        if k+1 == rand_ind:\n",
        "          if symp in data_original.iloc[ind]['symptoms']:\n",
        "            break\n",
        "          else:\n",
        "            symptoms.append(symp)\n",
        "            flag = False\n",
        "            break"
      ],
      "metadata": {
        "id": "bVgl9xxbO_T8"
      },
      "execution_count": null,
      "outputs": []
    },
    {
      "cell_type": "code",
      "source": [
        "add_offset(y_test, x_test)\n",
        "x_test"
      ],
      "metadata": {
        "colab": {
          "base_uri": "https://localhost:8080/"
        },
        "id": "XTvYIpdDVgZc",
        "outputId": "c03c43eb-f9bc-4dc5-a781-679e074ab2d5"
      },
      "execution_count": null,
      "outputs": [
        {
          "output_type": "execute_result",
          "data": {
            "text/plain": [
              "array([list(['온몸이 떨림', '생리불순', '손떨림', '가슴 두근거림', '얼굴이 화끈거림', '구강건조', '권태감', '구토', '가슴 쓰림', '복부팽만감', '지남력 장애']),\n",
              "       list(['얼굴이 화끈거림', '근육통', '두통', '자제력 상실 두려움']),\n",
              "       list(['온몸이 떨림', '오심', '생리불순', '가슴 답답', '가슴 두근거림', '얼굴이 화끈거림', '복부팽만감', '어지러움', '저림', '와해된 행동']),\n",
              "       ...,\n",
              "       list(['오심', '얼굴이 화끈거림', '권태감', '가슴 쓰림', '복부팽만감', '두통', '청색증']),\n",
              "       list(['손떨림', '가슴 답답', '가슴 두근거림', '얼굴이 화끈거림', '구토', '저림', '병원 쇼핑']),\n",
              "       list(['오심', '가슴 답답', '가슴 두근거림', '얼굴이 화끈거림', '구강건조', '근육통', '구토', '가슴 쓰림', '복부팽만감', '두통', '저림', '체중증가'])],\n",
              "      dtype=object)"
            ]
          },
          "metadata": {},
          "execution_count": 74
        }
      ]
    },
    {
      "cell_type": "code",
      "execution_count": 15,
      "metadata": {
        "id": "JIvdzwL9_GYf"
      },
      "outputs": [],
      "source": [
        "#데이터를 sequence로 변환해주고 padding 해줍니다.\n",
        "train_sequences = tokenizer.texts_to_sequences(x_train)\n",
        "train_padded = pad_sequences(train_sequences, padding=padding_type, maxlen=max_length)\n",
        "\n",
        "test_sequences = tokenizer.texts_to_sequences(x_test)\n",
        "test_padded = pad_sequences(test_sequences, padding=padding_type, maxlen=max_length)"
      ]
    },
    {
      "cell_type": "code",
      "execution_count": null,
      "metadata": {
        "id": "WY5MPt4x_GYf",
        "outputId": "4fbf33a0-9e73-473d-dade-8b745d45b46d",
        "colab": {
          "base_uri": "https://localhost:8080/"
        }
      },
      "outputs": [
        {
          "output_type": "execute_result",
          "data": {
            "text/plain": [
              "array([[ 5, 14,  1, ...,  0,  0,  0],\n",
              "       [ 3, 12,  7, ...,  0,  0,  0],\n",
              "       [ 5,  8, 14, ...,  0,  0,  0],\n",
              "       ...,\n",
              "       [ 8,  3, 13, ...,  0,  0,  0],\n",
              "       [ 1,  4,  2, ...,  0,  0,  0],\n",
              "       [ 8,  4,  2, ...,  0,  0,  0]], dtype=int32)"
            ]
          },
          "metadata": {},
          "execution_count": 92
        }
      ],
      "source": [
        "test_padded"
      ]
    },
    {
      "cell_type": "markdown",
      "source": [
        "# ***NLP 모델***"
      ],
      "metadata": {
        "id": "2jVA09oEFGq1"
      }
    },
    {
      "cell_type": "code",
      "source": [
        "Models = [0,0,0,0,0]"
      ],
      "metadata": {
        "id": "wSK7DHM8aoZy"
      },
      "execution_count": 22,
      "outputs": []
    },
    {
      "cell_type": "code",
      "execution_count": 16,
      "metadata": {
        "id": "yTp7P7qQ_GYf"
      },
      "outputs": [],
      "source": [
        "#가벼운 NLP모델 생성\n",
        "model = tf.keras.Sequential([\n",
        "    tf.keras.layers.Embedding(vocab_size, embedding_dim, input_length=max_length),\n",
        "    tf.keras.layers.GlobalAveragePooling1D(),\n",
        "    tf.keras.layers.Dense(24, activation='relu'),\n",
        "    tf.keras.layers.Dense(64, activation='softmax')\n",
        "])"
      ]
    },
    {
      "cell_type": "code",
      "execution_count": 17,
      "metadata": {
        "id": "sq-oDbD0_GYg",
        "outputId": "1c9fa703-9011-41bb-fc05-0b2e59960771",
        "colab": {
          "base_uri": "https://localhost:8080/"
        }
      },
      "outputs": [
        {
          "output_type": "stream",
          "name": "stdout",
          "text": [
            "Model: \"sequential\"\n",
            "_________________________________________________________________\n",
            " Layer (type)                Output Shape              Param #   \n",
            "=================================================================\n",
            " embedding (Embedding)       (None, 17, 8)             1424      \n",
            "                                                                 \n",
            " global_average_pooling1d (G  (None, 8)                0         \n",
            " lobalAveragePooling1D)                                          \n",
            "                                                                 \n",
            " dense (Dense)               (None, 24)                216       \n",
            "                                                                 \n",
            " dense_1 (Dense)             (None, 64)                1600      \n",
            "                                                                 \n",
            "=================================================================\n",
            "Total params: 3,240\n",
            "Trainable params: 3,240\n",
            "Non-trainable params: 0\n",
            "_________________________________________________________________\n",
            "None\n"
          ]
        }
      ],
      "source": [
        "# compile model\n",
        "model.compile(loss='sparse_categorical_crossentropy',\n",
        "              optimizer='adam',\n",
        "              metrics=['accuracy'])\n",
        "\n",
        "# model summary\n",
        "print(model.summary())"
      ]
    },
    {
      "cell_type": "code",
      "execution_count": 18,
      "metadata": {
        "id": "JpkSbup-_GYg",
        "colab": {
          "base_uri": "https://localhost:8080/"
        },
        "outputId": "ff6d47d4-a62a-4333-ecc3-e5e5573debc7"
      },
      "outputs": [
        {
          "output_type": "stream",
          "name": "stdout",
          "text": [
            "Epoch 1/20\n",
            "1577/1577 - 3s - loss: 0.6598 - accuracy: 0.8929 - val_loss: 0.1742 - val_accuracy: 0.9510 - 3s/epoch - 2ms/step\n",
            "Epoch 2/20\n",
            "1577/1577 - 2s - loss: 0.1006 - accuracy: 0.9760 - val_loss: 0.0737 - val_accuracy: 0.9827 - 2s/epoch - 1ms/step\n",
            "Epoch 3/20\n",
            "1577/1577 - 2s - loss: 0.0552 - accuracy: 0.9859 - val_loss: 0.0559 - val_accuracy: 0.9842 - 2s/epoch - 1ms/step\n",
            "Epoch 4/20\n",
            "1577/1577 - 2s - loss: 0.0408 - accuracy: 0.9890 - val_loss: 0.0429 - val_accuracy: 0.9895 - 2s/epoch - 2ms/step\n",
            "Epoch 5/20\n",
            "1577/1577 - 3s - loss: 0.0302 - accuracy: 0.9924 - val_loss: 0.0342 - val_accuracy: 0.9922 - 3s/epoch - 2ms/step\n",
            "Epoch 6/20\n",
            "1577/1577 - 2s - loss: 0.0240 - accuracy: 0.9936 - val_loss: 0.0286 - val_accuracy: 0.9937 - 2s/epoch - 1ms/step\n",
            "Epoch 7/20\n",
            "1577/1577 - 4s - loss: 0.0201 - accuracy: 0.9947 - val_loss: 0.0251 - val_accuracy: 0.9944 - 4s/epoch - 3ms/step\n",
            "Epoch 8/20\n",
            "1577/1577 - 3s - loss: 0.0173 - accuracy: 0.9954 - val_loss: 0.0223 - val_accuracy: 0.9952 - 3s/epoch - 2ms/step\n",
            "Epoch 9/20\n",
            "1577/1577 - 2s - loss: 0.0153 - accuracy: 0.9957 - val_loss: 0.0203 - val_accuracy: 0.9955 - 2s/epoch - 1ms/step\n",
            "Epoch 10/20\n",
            "1577/1577 - 2s - loss: 0.0139 - accuracy: 0.9961 - val_loss: 0.0185 - val_accuracy: 0.9959 - 2s/epoch - 1ms/step\n",
            "Epoch 11/20\n",
            "1577/1577 - 2s - loss: 0.0125 - accuracy: 0.9962 - val_loss: 0.0173 - val_accuracy: 0.9960 - 2s/epoch - 1ms/step\n",
            "Epoch 12/20\n",
            "1577/1577 - 3s - loss: 0.0116 - accuracy: 0.9964 - val_loss: 0.0170 - val_accuracy: 0.9956 - 3s/epoch - 2ms/step\n",
            "Epoch 13/20\n",
            "1577/1577 - 3s - loss: 0.0107 - accuracy: 0.9964 - val_loss: 0.0158 - val_accuracy: 0.9961 - 3s/epoch - 2ms/step\n",
            "Epoch 14/20\n",
            "1577/1577 - 3s - loss: 0.0100 - accuracy: 0.9966 - val_loss: 0.0152 - val_accuracy: 0.9962 - 3s/epoch - 2ms/step\n",
            "Epoch 15/20\n",
            "1577/1577 - 2s - loss: 0.0093 - accuracy: 0.9970 - val_loss: 0.0143 - val_accuracy: 0.9965 - 2s/epoch - 1ms/step\n",
            "Epoch 16/20\n",
            "1577/1577 - 3s - loss: 0.0091 - accuracy: 0.9968 - val_loss: 0.0136 - val_accuracy: 0.9964 - 3s/epoch - 2ms/step\n",
            "Epoch 17/20\n",
            "1577/1577 - 2s - loss: 0.0086 - accuracy: 0.9970 - val_loss: 0.0132 - val_accuracy: 0.9965 - 2s/epoch - 1ms/step\n",
            "Epoch 18/20\n",
            "1577/1577 - 2s - loss: 0.0081 - accuracy: 0.9970 - val_loss: 0.0129 - val_accuracy: 0.9968 - 2s/epoch - 1ms/step\n",
            "Epoch 19/20\n",
            "1577/1577 - 2s - loss: 0.0077 - accuracy: 0.9971 - val_loss: 0.0123 - val_accuracy: 0.9967 - 2s/epoch - 1ms/step\n",
            "Epoch 20/20\n",
            "1577/1577 - 3s - loss: 0.0076 - accuracy: 0.9971 - val_loss: 0.0120 - val_accuracy: 0.9967 - 3s/epoch - 2ms/step\n"
          ]
        }
      ],
      "source": [
        "# fit model\n",
        "num_epochs = 20\n",
        "#history = model.fit(train_padded, y_train, \n",
        "                    #epochs=1000, verbose=2)\n",
        "history = model.fit(train_padded, y_train, \n",
        "                     epochs=num_epochs, verbose=2, \n",
        "                     validation_split=0.2)"
      ]
    },
    {
      "cell_type": "code",
      "execution_count": 19,
      "metadata": {
        "id": "3RTbdTz9_GYg",
        "outputId": "c91fba86-0121-4cbe-f327-f6a8e26e8850",
        "colab": {
          "base_uri": "https://localhost:8080/"
        }
      },
      "outputs": [
        {
          "output_type": "stream",
          "name": "stdout",
          "text": [
            "493/493 - 0s - 364ms/epoch - 739us/step\n"
          ]
        },
        {
          "output_type": "execute_result",
          "data": {
            "text/plain": [
              "array(['신체형 장애', '신체형 장애', '신체형 장애', ..., '신체형 장애', '신체형 장애', '신체형 장애'],\n",
              "      dtype=object)"
            ]
          },
          "metadata": {},
          "execution_count": 19
        }
      ],
      "source": [
        "# 학습된 모델로 테스트 데이터 예측\n",
        "y_prob = model.predict(test_padded, verbose=2) \n",
        "predicted = y_prob.argmax(axis=-1)\n",
        "\n",
        "encoder.classes_[predicted]"
      ]
    },
    {
      "cell_type": "code",
      "source": [
        "acc_mlp, fl_mlp = get_clf_eval(y_test, predicted)\n",
        "\n",
        "print(\"Accuracy: \" + str(acc_mlp) + \", \" + \"F1 Score: \" + str(fl_mlp))"
      ],
      "metadata": {
        "colab": {
          "base_uri": "https://localhost:8080/"
        },
        "id": "jaJ0TqqOC0I5",
        "outputId": "aac89287-dfca-4b83-e810-65c97d619fd6"
      },
      "execution_count": null,
      "outputs": [
        {
          "output_type": "stream",
          "name": "stdout",
          "text": [
            "Accuracy: 0.9932762448461783, F1 Score: 0.9927891898141622\n"
          ]
        }
      ]
    },
    {
      "cell_type": "code",
      "source": [
        "Models[0] = model"
      ],
      "metadata": {
        "id": "VdKX4DvGanCC"
      },
      "execution_count": 23,
      "outputs": []
    },
    {
      "cell_type": "markdown",
      "source": [
        "# ***SVM***\n"
      ],
      "metadata": {
        "id": "xE1n6sKsFqTK"
      }
    },
    {
      "cell_type": "code",
      "source": [
        "#SupportVector 모델 학습\n",
        "SVM = svm.SVC(C=1.0, kernel='poly', degree=3, gamma='auto', verbose=True, probability=True)\n",
        "SVM.fit(train_padded, y_train)"
      ],
      "metadata": {
        "id": "qAAMyWpFvY66"
      },
      "execution_count": null,
      "outputs": []
    },
    {
      "cell_type": "code",
      "source": [
        "predictions_SVM = SVM.predict(test_padded)\n",
        "predictions_SVM\n",
        "\n",
        "encoder.classes_[predictions_SVM]"
      ],
      "metadata": {
        "id": "NDrtNglpyRS-"
      },
      "execution_count": null,
      "outputs": []
    },
    {
      "cell_type": "code",
      "source": [
        "acc_svm, fl_svm = get_clf_eval(y_test, predictions_SVM)\n",
        "\n",
        "print(\"Accuracy: \" + str(acc_svm) + \", \" + \"F1 Score: \" + str(fl_svm))"
      ],
      "metadata": {
        "id": "Lot85_guof3G"
      },
      "execution_count": null,
      "outputs": []
    },
    {
      "cell_type": "code",
      "source": [
        "Models[1] = SVM"
      ],
      "metadata": {
        "id": "sn8sDZA0axOl"
      },
      "execution_count": null,
      "outputs": []
    },
    {
      "cell_type": "markdown",
      "source": [
        "# ***Naive Bayes***"
      ],
      "metadata": {
        "id": "nrOf5VezFtgq"
      }
    },
    {
      "cell_type": "code",
      "source": [
        "#Naive bayes 모델 학습\n",
        "Naive = naive_bayes.MultinomialNB()\n",
        "Naive.fit(train_padded, y_train)"
      ],
      "metadata": {
        "id": "oi12g48rywkb",
        "colab": {
          "base_uri": "https://localhost:8080/"
        },
        "outputId": "16e8126b-36a5-467a-8eb3-00f8f8f4855a"
      },
      "execution_count": 24,
      "outputs": [
        {
          "output_type": "execute_result",
          "data": {
            "text/plain": [
              "MultinomialNB()"
            ]
          },
          "metadata": {},
          "execution_count": 24
        }
      ]
    },
    {
      "cell_type": "code",
      "source": [
        "predictions_NB = Naive.predict(test_padded)\n",
        "\n",
        "encoder.classes_[predictions_NB]"
      ],
      "metadata": {
        "id": "rbBJ-Z_70EKk",
        "colab": {
          "base_uri": "https://localhost:8080/"
        },
        "outputId": "69cff683-793f-4143-db44-87c4f2a3115b"
      },
      "execution_count": 25,
      "outputs": [
        {
          "output_type": "execute_result",
          "data": {
            "text/plain": [
              "array(['신체형 장애', '강박 장애', '신체형 장애', ..., '금단 현상', '신체형 장애', '신체형 장애'],\n",
              "      dtype=object)"
            ]
          },
          "metadata": {},
          "execution_count": 25
        }
      ]
    },
    {
      "cell_type": "code",
      "source": [
        "acc_nb, fl_nb = get_clf_eval(y_test, predictions_NB)\n",
        "\n",
        "print(\"Accuracy: \" + str(acc_nb) + \", \" + \"F1 Score: \" + str(fl_nb))"
      ],
      "metadata": {
        "id": "zBwpULlsCh6B",
        "colab": {
          "base_uri": "https://localhost:8080/"
        },
        "outputId": "a2dec410-495a-4ef1-b646-f49ad1d3e5b1"
      },
      "execution_count": 26,
      "outputs": [
        {
          "output_type": "stream",
          "name": "stdout",
          "text": [
            "Accuracy: 0.5888360291785601, F1 Score: 0.6885924032139362\n"
          ]
        }
      ]
    },
    {
      "cell_type": "code",
      "source": [
        "Models[2] = Naive"
      ],
      "metadata": {
        "id": "Tr5PXIT1bBRT"
      },
      "execution_count": 27,
      "outputs": []
    },
    {
      "cell_type": "markdown",
      "source": [
        "# ***Decision Tree***"
      ],
      "metadata": {
        "id": "pAhmuiJ0FzTx"
      }
    },
    {
      "cell_type": "code",
      "source": [
        "#DecisionTree 모델 학습\n",
        "DTC = tree.DecisionTreeClassifier(min_samples_leaf=17)\n",
        "DTC.fit(train_padded, y_train)"
      ],
      "metadata": {
        "id": "dAToMXRArmb-",
        "colab": {
          "base_uri": "https://localhost:8080/"
        },
        "outputId": "798a2c71-bffb-48e4-8459-1539d8738f6e"
      },
      "execution_count": 43,
      "outputs": [
        {
          "output_type": "execute_result",
          "data": {
            "text/plain": [
              "DecisionTreeClassifier(min_samples_leaf=17)"
            ]
          },
          "metadata": {},
          "execution_count": 43
        }
      ]
    },
    {
      "cell_type": "code",
      "source": [
        "predictions_DTC = DTC.predict(test_padded)\n",
        "\n",
        "encoder.classes_[predictions_DTC]"
      ],
      "metadata": {
        "id": "ha--niFGr8MN",
        "colab": {
          "base_uri": "https://localhost:8080/"
        },
        "outputId": "25a00fc1-09a7-4719-8b30-29dd4c515cf2"
      },
      "execution_count": 44,
      "outputs": [
        {
          "output_type": "execute_result",
          "data": {
            "text/plain": [
              "array(['신체형 장애', '신체형 장애', '신체형 장애', ..., '신체형 장애', '신체형 장애', '신체형 장애'],\n",
              "      dtype=object)"
            ]
          },
          "metadata": {},
          "execution_count": 44
        }
      ]
    },
    {
      "cell_type": "code",
      "source": [
        "acc_dtc, fl_dtc = get_clf_eval(y_test, predictions_DTC)\n",
        "\n",
        "print(\"Accuracy: \" + str(acc_dtc) + \", \" + \"F1 Score: \" + str(fl_dtc))"
      ],
      "metadata": {
        "id": "Pra-_dQICriw",
        "colab": {
          "base_uri": "https://localhost:8080/"
        },
        "outputId": "402cee09-d11d-4403-f488-a2c1a3bb1953"
      },
      "execution_count": 45,
      "outputs": [
        {
          "output_type": "stream",
          "name": "stdout",
          "text": [
            "Accuracy: 0.9941642879797019, F1 Score: 0.9935858680906577\n"
          ]
        }
      ]
    },
    {
      "cell_type": "code",
      "source": [
        "Models[3] = DTC"
      ],
      "metadata": {
        "id": "Mh_7bbjabH1r"
      },
      "execution_count": 46,
      "outputs": []
    },
    {
      "cell_type": "markdown",
      "source": [
        "---\n",
        "# 여기서부터 추가 \n",
        "\n"
      ],
      "metadata": {
        "id": "R9aScsFPJ4k_"
      }
    },
    {
      "cell_type": "markdown",
      "source": [
        "더이상 입력할 증상이 없으면 종료\n",
        "90%는 넘겨보자\n",
        "\n",
        "안되면 어떤 증상을 물어보지?\n",
        "\n",
        "현재 입력한 증상이 있는 질병중 가장 많이 출현하는 증상을 물어보자 예를 들면\n",
        "\n",
        "\"당신은 (해당 증상)을 가졌을 확률이 높습니다.\"\n",
        "\n",
        "전제\n",
        "1. 환자가 거짓된 증상을 입력하지 않는다\n",
        "2. 오타가 나지 않는다 >> 뛰어쓰기같은건 replace(\" \", \"\")로 처음부터 지우고 나머지는 다시 하라고 하자"
      ],
      "metadata": {
        "id": "mOYHCn1prmQb"
      }
    },
    {
      "cell_type": "code",
      "source": [
        "def find_mode(pat_word_index):#입력받은 증상 배열\n",
        "  ##어떤 질병에 포함된 증상인지\n",
        "  sample_train = []#증상의 index\n",
        "  torf = True\n",
        "  for i in range(len(data['symptoms'])):#전체 증상\n",
        "    for j in range(len(pat_word_index)):#입력받은 증상\n",
        "      torf = pat_word_index[j] in data['symptoms'][i]\n",
        "      if(not torf):break\n",
        "    if(torf): sample_train.append(i)\n",
        "    ##모든 증상 시리즈를 다 돌면서 한 시리즈에 환자의 증상이 다 들어가 있으면 torf는 계속 true, 끝까지 true면 해당 질병을 append\n",
        "\n",
        "  ld_symp = []#주어진 증상 배열을 포함하는 질병들의 증상 목록\n",
        "  for i in data['symptoms'][sample_train]:\n",
        "    for j in i:\n",
        "      ld_symp.append(j)\n",
        "\n",
        "  max = -1\n",
        "  max_arr = []\n",
        "  chk_symp = pat_word_index.copy()\n",
        "  for i in ld_symp:#어떤 증상 i를 확인해볼까?\n",
        "    count = 0\n",
        "    if(i not in chk_symp):\n",
        "      for j in ld_symp:#이 증상이 몇 개 있는지 배열을 돌아볼까?\n",
        "        if(i == j): count += 1#i 증상이 j로 나오면 1회 추가\n",
        "      \n",
        "      if(count > max):#새로운 최빈값\n",
        "        max_arr = [i]\n",
        "        max = count\n",
        "\n",
        "      elif(count == max):#이것도 최빈값\n",
        "        max_arr.append(i)\n",
        "\n",
        "    chk_symp.append(i)\n",
        "  return max_arr"
      ],
      "metadata": {
        "id": "v5Y7MHsrhHHP"
      },
      "execution_count": 32,
      "outputs": []
    },
    {
      "cell_type": "code",
      "source": [
        "model_use = 3\n",
        "#증상 목록 출력\n",
        "# for i in word_index.keys():\n",
        "#   print(i)\n",
        "\n",
        "#증상 수 초과시 종료\n",
        "count = 1\n",
        "\n",
        "#첫 증상 입력\n",
        "\n",
        "##증상 입력받을 배열\n",
        "pat_word_index = []\n",
        "pat_symp = input(\"\\n위 증상중 해당하는 증상을 하나씩 입력해주세요 (없으면 엔터) : \")\n",
        "pat_word_index.append(pat_symp)\n",
        "\n",
        "pat_word_array = np.array(pd.Series([pat_word_index]))\n",
        "\n",
        "##데이터를 sequence로 변환해주고 padding 해줍니다.\n",
        "pat_sequences = tokenizer.texts_to_sequences(pat_word_array.tolist())\n",
        "pat_padded = pad_sequences(pat_sequences, padding=padding_type, maxlen=max_length)\n",
        "\n",
        "##확률 계산\n",
        "if model_use == 0:\n",
        "  y_prob = Models[model_use].predict(pat_padded)\n",
        "else:\n",
        "  y_prob = Models[model_use].predict_proba(pat_padded)\n",
        "predicted = y_prob.argmax(axis=-1)\n",
        "\n",
        "print(y_prob)\n",
        "\n",
        "#두번째 이상의 증상 입력\n",
        "del_token = \"[']\"\n",
        "asked = [] #물어봤던 증상 배열\n",
        "\n",
        "while (y_prob[0][predicted[0]] < 0.9) and (pat_symp !='') and (count <= vocab_size):#1. 확률이 90% 미만, 빈칸이 아님, 최대치만큼 안돌음\n",
        "  target_symptoms = data_subset['symptoms'][data_subset['disease'].ne(encoder.classes_[predicted][0]).idxmin()]\n",
        "  \n",
        "  for t in del_token:\n",
        "    target_symptoms = target_symptoms.replace(t, \"\")\n",
        "  target_symptoms = target_symptoms.split(',')\n",
        "\n",
        "  new = []\n",
        "\n",
        "  for t in target_symptoms:\n",
        "    if len(t) > 0 and t[0] == \" \":\n",
        "      t = t[1:]\n",
        "    new.append(t)\n",
        "  \n",
        "  for t in new:\n",
        "    if t in pat_word_index:\n",
        "      new.remove(t)\n",
        "\n",
        "  count = 0\n",
        "\n",
        "  while len(new) > 0:\n",
        "    count += 1\n",
        "    rand_ind = random.randrange(0, len(new))\n",
        "\n",
        "    next_symp = new[rand_ind]\n",
        "    if next_symp in asked: #물어봤던 증상일 경우 넘어감\n",
        "      del new[rand_ind]\n",
        "      continue\n",
        "\n",
        "    yn = input(\"\\n\" + str(count) + \". \" + next_symp + \" 증상이 있으십니까? (y/n): \")\n",
        "\n",
        "    if yn == 'y':\n",
        "      pat_symp = next_symp\n",
        "      break;\n",
        "    else:\n",
        "      asked.append(next_symp)\n",
        "      del new[rand_ind]\n",
        "\n",
        "  pat_word_index.append(pat_symp)\n",
        "\n",
        "  pat_word_array = np.array(pd.Series([pat_word_index]))\n",
        "\n",
        "  ##데이터를 sequence로 변환해주고 padding 해줍니다.\n",
        "  pat_sequences = tokenizer.texts_to_sequences(pat_word_array.tolist())\n",
        "  pat_padded = pad_sequences(pat_sequences, padding=padding_type, maxlen=max_length)\n",
        "\n",
        "  ##확률 계산\n",
        "  y_prob = model.predict(pat_padded, verbose=0)\n",
        "  predicted = y_prob.argmax(axis=-1)\n",
        "\n",
        "  count += 1\n",
        "\n",
        "pat_word_index = pat_word_index[:-1]\n",
        "print(\"예측이 완료되었습니다.\")"
      ],
      "metadata": {
        "id": "kqaghyV9zFEJ",
        "colab": {
          "base_uri": "https://localhost:8080/"
        },
        "outputId": "e0557b40-da7b-42a0-b5e3-c8b209ed6bb1"
      },
      "execution_count": null,
      "outputs": [
        {
          "name": "stdout",
          "output_type": "stream",
          "text": [
            "\n",
            "위 증상중 해당하는 증상을 하나씩 입력해주세요 (없으면 엔터) : 망상\n",
            "[[0.         0.         0.         0.         0.         0.07692308\n",
            "  0.         0.         0.07692308 0.         0.07692308 0.\n",
            "  0.07692308 0.07692308 0.07692308 0.         0.         0.07692308\n",
            "  0.         0.         0.07692308 0.         0.         0.\n",
            "  0.         0.07692308 0.         0.         0.         0.\n",
            "  0.         0.         0.         0.         0.07692308 0.\n",
            "  0.         0.         0.07692308 0.         0.         0.\n",
            "  0.         0.         0.         0.         0.         0.\n",
            "  0.07692308 0.         0.         0.         0.         0.\n",
            "  0.         0.         0.07692308 0.         0.         0.\n",
            "  0.         0.         0.         0.        ]]\n",
            "\n",
            "1. 대인관계 어려움 증상이 있으십니까? (y/n): n\n",
            "\n",
            "2. 불안 증상이 있으십니까? (y/n): n\n",
            "\n",
            "1. 식욕부진 증상이 있으십니까? (y/n): n\n",
            "\n",
            "2. 오후 우울감 완화 증상이 있으십니까? (y/n): n\n",
            "\n",
            "3. 환각 증상이 있으십니까? (y/n): n\n",
            "\n",
            "4. 수면장애 증상이 있으십니까? (y/n): n\n",
            "\n",
            "5. 자살의 위험 증상이 있으십니까? (y/n): n\n",
            "\n",
            "6. 삶에 대한 흥미 상실 증상이 있으십니까? (y/n): n\n",
            "\n",
            "1. 와해된 행동 증상이 있으십니까? (y/n): n\n",
            "\n",
            "2. 피해망상 증상이 있으십니까? (y/n): n\n",
            "\n",
            "3. 무욕증 증상이 있으십니까? (y/n): n\n",
            "\n",
            "5. 정서적 둔마 증상이 있으십니까? (y/n): n\n",
            "\n",
            "6. 무논리증 증상이 있으십니까? (y/n): n\n",
            "\n",
            "7. 와해된 언어 증상이 있으십니까? (y/n): n\n",
            "\n",
            "2. 환청 증상이 있으십니까? (y/n): n\n",
            "\n",
            "3. 이상행동 증상이 있으십니까? (y/n): n\n",
            "\n",
            "5. 환시 증상이 있으십니까? (y/n): n\n"
          ]
        }
      ]
    },
    {
      "cell_type": "code",
      "source": [
        "#결과 출력\n",
        "\n",
        "##확률이 90%가 넘어서 멈춘 경우\n",
        "if(y_prob[0][predicted[0]] >0.9):\n",
        "  print(\"당신의 증상은 \"+str(y_prob[0][predicted[0]]*100)+\"%의 확률로 \"+encoder.classes_[predicted][0]+\" 입니다.\")\n",
        "\n",
        "##더이상 입력을 안한 경우, 즉 입력을 완료한 경우\n",
        "else:\n",
        "  print(\"현재 입력해주신 증상으로는 \"+str(y_prob[0][predicted[0]]*100)+\"%의 확률로 \"+encoder.classes_[predicted][0]+\" 입니다.\")"
      ],
      "metadata": {
        "id": "e3wPt82XncXN",
        "colab": {
          "base_uri": "https://localhost:8080/"
        },
        "outputId": "bb7427c9-4a38-4f9a-e721-7685b662e7ba"
      },
      "execution_count": 77,
      "outputs": [
        {
          "output_type": "stream",
          "name": "stdout",
          "text": [
            "당신의 증상은 92.79376268386841%의 확률로 경계성 인격장애 입니다.\n"
          ]
        }
      ]
    },
    {
      "cell_type": "markdown",
      "source": [
        "해야 할 내용\n",
        "\n",
        "---\n",
        "\n",
        "* 알코올성 치매, 히스테리성 인격장애는 증상이 없고, 증상이 없는 경우 확률은 30%대가 최대라 판별이 불가능한데 어떻게 해결할까 >> 일정 확률 이상의 질병들을 모두 출력할까?"
      ],
      "metadata": {
        "id": "L4U8e_PIlJwj"
      }
    },
    {
      "cell_type": "code",
      "source": [],
      "metadata": {
        "id": "0gkpOxLfpR_G"
      },
      "execution_count": null,
      "outputs": []
    }
  ],
  "metadata": {
    "kernelspec": {
      "display_name": "Python 3.9.12 ('base')",
      "language": "python",
      "name": "python3"
    },
    "language_info": {
      "codemirror_mode": {
        "name": "ipython",
        "version": 3
      },
      "file_extension": ".py",
      "mimetype": "text/x-python",
      "name": "python",
      "nbconvert_exporter": "python",
      "pygments_lexer": "ipython3",
      "version": "3.9.12"
    },
    "orig_nbformat": 4,
    "vscode": {
      "interpreter": {
        "hash": "a077222d77dfe082b8f1dd562ad70e458ac2ab76993a0b248ab0476e32e9e8dd"
      }
    },
    "colab": {
      "provenance": [],
      "collapsed_sections": []
    }
  },
  "nbformat": 4,
  "nbformat_minor": 0
}