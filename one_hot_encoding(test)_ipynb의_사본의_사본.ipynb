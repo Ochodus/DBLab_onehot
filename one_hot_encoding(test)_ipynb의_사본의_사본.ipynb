{
  "cells": [
    {
      "cell_type": "code",
      "execution_count": null,
      "metadata": {
        "id": "4icw_5HP_GYV"
      },
      "outputs": [],
      "source": [
        "# 라이브러리 저장\n",
        "# !pip freeze > requirements.txt"
      ]
    },
    {
      "cell_type": "code",
      "execution_count": null,
      "metadata": {
        "id": "JT4Ho8-h_GYY"
      },
      "outputs": [],
      "source": [
        "# 라이브러리 실행\n",
        "# !pip install -r requirements.txt\n",
        "# !pip install tensorflow==2.10.0"
      ]
    },
    {
      "cell_type": "code",
      "execution_count": null,
      "metadata": {
        "id": "VtYFaAJg_GYZ"
      },
      "outputs": [],
      "source": [
        "import pandas as pd\n",
        "import numpy as np\n",
        "import warnings \n",
        "warnings.filterwarnings(action='ignore')\n",
        "import tensorflow as tf\n",
        "from tensorflow.keras.preprocessing.sequence import pad_sequences\n",
        "from tensorflow.keras.preprocessing.text import Tokenizer\n",
        "from sklearn import svm\n",
        "from sklearn import model_selection, naive_bayes, svm\n",
        "from sklearn.metrics import accuracy_score\n",
        "from sklearn import tree\n",
        "from sklearn.model_selection import train_test_split\n",
        "import random"
      ]
    },
    {
      "cell_type": "code",
      "execution_count": null,
      "metadata": {
        "id": "UMEsfA8J_GYZ"
      },
      "outputs": [],
      "source": [
        "test = pd.read_excel('mental_health_medical_data_test.xlsx')\n",
        "data_original = pd.read_excel('mental_health_medical_data.xlsx') #기존 데이터\n",
        "data_subset = pd.read_excel('subset_data.xlsx') #확장 데이터\n",
        "\n",
        "data = pd.concat([data_subset, data_original]) #stratify 오류 방지를 위해 각 라벨 별로 최소 2개 이상의 데이터를 가지기 위한 concat"
      ]
    },
    {
      "cell_type": "code",
      "execution_count": null,
      "metadata": {
        "id": "QbaHPaMf_GYZ"
      },
      "outputs": [],
      "source": [
        "# 증상의 문자열 벗기기 함수\n",
        "def listing(x):\n",
        "    x = eval(x)\n",
        "    return x\n",
        "\n",
        "#모델 예측 정확도를 구하기 위한 간단한 함수\n",
        "def getAccuracy(prediction, target):\n",
        "  count = 0\n",
        "  for x, y in zip(prediction, target):\n",
        "    if x == y:\n",
        "      count += 1  \n",
        "  return count/len(prediction) * 100\n",
        "\n",
        "data['symptoms'] = data['symptoms'].apply(listing)"
      ]
    },
    {
      "cell_type": "code",
      "execution_count": null,
      "metadata": {
        "id": "N7LwGh7w_GYa",
        "outputId": "536e55f0-f841-47a3-f105-7d5a526f25ae",
        "colab": {
          "base_uri": "https://localhost:8080/"
        }
      },
      "outputs": [
        {
          "output_type": "stream",
          "name": "stdout",
          "text": [
            "인코딩 변환값: [ 0  0  0 ... 11 58  4]\n",
            "79896\n"
          ]
        }
      ],
      "source": [
        "#레이블 인코딩(타겟 문자열 불가)\n",
        "from sklearn.preprocessing import LabelEncoder\n",
        "items = data['disease']\n",
        "encoder = LabelEncoder()\n",
        "encoder.fit(items)\n",
        "labels = encoder.transform(items)\n",
        "\n",
        "print('인코딩 변환값:',labels)\n",
        "print(len(labels))"
      ]
    },
    {
      "cell_type": "code",
      "execution_count": null,
      "metadata": {
        "id": "V9QKIqaE_GYc"
      },
      "outputs": [],
      "source": [
        "X_train = np.array([x for x in data['symptoms']])\n",
        "Y_train = np.array(labels)"
      ]
    },
    {
      "cell_type": "code",
      "execution_count": null,
      "metadata": {
        "id": "EIV2z0B9_GYc"
      },
      "outputs": [],
      "source": [
        "x_train, x_test, y_train, y_test = train_test_split(X_train, Y_train, test_size=0.2, shuffle=True, stratify = Y_train, random_state=34) #0.8의 학습데이터, 0.2의 테스트데이터로 분리"
      ]
    },
    {
      "cell_type": "code",
      "execution_count": null,
      "metadata": {
        "id": "4DukF5eQ_GYc",
        "outputId": "b7059f65-5f6d-47ad-ebb1-b0bb3304c5bf",
        "colab": {
          "base_uri": "https://localhost:8080/"
        }
      },
      "outputs": [
        {
          "output_type": "execute_result",
          "data": {
            "text/plain": [
              "array([list(['오심', '손떨림', '가슴 두근거림', '얼굴이 화끈거림', '구강건조', '복부팽만감', '두통']),\n",
              "       list(['손떨림', '가슴 답답', '얼굴이 화끈거림', '구강건조', '근육통', '권태감', '구토', '복부팽만감', '저림']),\n",
              "       list(['얼굴이 화끈거림', '근육통', '구토', '가슴 쓰림', '복부팽만감', '두통', '저림']), ...,\n",
              "       list(['온몸이 떨림', '오심', '손떨림', '구강건조', '근육통', '구토', '저림']),\n",
              "       list(['오심', '손떨림', '가슴 답답', '얼굴이 화끈거림', '가슴 쓰림', '두통', '어지러움', '저림']),\n",
              "       list(['온몸이 떨림', '오심', '손떨림', '가슴 두근거림', '얼굴이 화끈거림', '구강건조', '권태감', '두통', '저림'])],\n",
              "      dtype=object)"
            ]
          },
          "metadata": {},
          "execution_count": 9
        }
      ],
      "source": [
        "x_test"
      ]
    },
    {
      "cell_type": "markdown",
      "metadata": {
        "id": "dZw4GQR-_GYd"
      },
      "source": [
        "# **모델링**"
      ]
    },
    {
      "cell_type": "code",
      "execution_count": null,
      "metadata": {
        "id": "rvrfT2Ka_GYe"
      },
      "outputs": [],
      "source": [
        "#파라미터 설정\n",
        "vocab_size = 178\n",
        "embedding_dim = 8 # 임베딩 차원\n",
        "max_length = 17      # 증상 최대 개수 \n",
        "padding_type='post'"
      ]
    },
    {
      "cell_type": "code",
      "execution_count": null,
      "metadata": {
        "id": "ql3lE6FL_GYe"
      },
      "outputs": [],
      "source": [
        "#tokenizer에 fit\n",
        "tokenizer = Tokenizer(num_words = vocab_size)#, oov_token=oov_tok)\n",
        "tokenizer.fit_on_texts(x_train)\n",
        "word_index = tokenizer.word_index"
      ]
    },
    {
      "cell_type": "code",
      "source": [
        "word_index"
      ],
      "metadata": {
        "id": "CsAIvKAV_Pke",
        "colab": {
          "base_uri": "https://localhost:8080/"
        },
        "outputId": "ee198256-e1b2-4d4c-c136-c9868fc121f7"
      },
      "execution_count": null,
      "outputs": [
        {
          "output_type": "execute_result",
          "data": {
            "text/plain": [
              "{'손떨림': 1,\n",
              " '가슴 두근거림': 2,\n",
              " '얼굴이 화끈거림': 3,\n",
              " '오심': 4,\n",
              " '온몸이 떨림': 5,\n",
              " '어지러움': 6,\n",
              " '가슴 답답': 7,\n",
              " '두통': 8,\n",
              " '복부팽만감': 9,\n",
              " '구토': 10,\n",
              " '구강건조': 11,\n",
              " '권태감': 12,\n",
              " '근육통': 13,\n",
              " '저림': 14,\n",
              " '가슴 쓰림': 15,\n",
              " '생리불순': 16,\n",
              " '불면증': 17,\n",
              " '환각': 18,\n",
              " '불안': 19,\n",
              " '환청': 20,\n",
              " '숨막히는 느낌': 21,\n",
              " '가슴 통증': 22,\n",
              " '죽음에 대한 공포': 23,\n",
              " '발한': 24,\n",
              " '저혈압': 25,\n",
              " '복시': 26,\n",
              " '오한': 27,\n",
              " '청색증': 28,\n",
              " '서맥': 29,\n",
              " '기운없음': 30,\n",
              " '고혈압': 31,\n",
              " '감정 변화': 32,\n",
              " '언어장애': 33,\n",
              " '초조함': 34,\n",
              " '섬망': 35,\n",
              " '혼돈': 36,\n",
              " '환시': 37,\n",
              " '수면장애': 38,\n",
              " '감각 이상': 39,\n",
              " '기억장애': 40,\n",
              " '피로감': 41,\n",
              " '조급증': 42,\n",
              " '목의 이물감': 43,\n",
              " '근육긴장': 44,\n",
              " '실인증': 45,\n",
              " '방향감각 상실': 46,\n",
              " '실행증': 47,\n",
              " '빈뇨': 48,\n",
              " '복부 불편감': 49,\n",
              " '판단력장애': 50,\n",
              " '시력 감소': 51,\n",
              " '빈호흡': 52,\n",
              " '의식 변화': 53,\n",
              " '낮은 자존감': 54,\n",
              " '우울': 55,\n",
              " '대인관계 어려움': 56,\n",
              " '망상': 57,\n",
              " '건망증': 58,\n",
              " '인지장애': 59,\n",
              " '산만함': 60,\n",
              " '수면 무호흡': 61,\n",
              " '인내심이 부족함': 62,\n",
              " '대화에 불쑥 끼어듬': 63,\n",
              " '호흡곤란': 64,\n",
              " '와해된 언어': 65,\n",
              " '수면 주기의 변화': 66,\n",
              " '복부 통증': 67,\n",
              " '낮 시간대의 졸음': 68,\n",
              " '수면 유지가 어려움': 69,\n",
              " '흉부압박감': 70,\n",
              " '수면 중 이상한 행동': 71,\n",
              " '수면 마비': 72,\n",
              " '피해망상': 73,\n",
              " '와해된 행동': 74,\n",
              " '수면 시작이 어려움': 75,\n",
              " '입수면기의 환각': 76,\n",
              " '부정맥': 77,\n",
              " '지남력 장애': 78,\n",
              " '체중감소': 79,\n",
              " '비정상적 성적 기호': 80,\n",
              " '정서적 둔마': 81,\n",
              " '무욕증': 82,\n",
              " '접촉도착증': 83,\n",
              " '자살의 위험': 84,\n",
              " '식욕부진': 85,\n",
              " '소아기호증': 86,\n",
              " '보행이상': 87,\n",
              " '피학증': 88,\n",
              " '말초 신경장애': 89,\n",
              " '가학증': 90,\n",
              " '조절할 수 없는 충동감': 91,\n",
              " '노출증': 92,\n",
              " '의심': 93,\n",
              " '약물남용': 94,\n",
              " '폭식': 95,\n",
              " '자제력 상실 두려움': 96,\n",
              " '무월경': 97,\n",
              " '삶에 대한 흥미 상실': 98,\n",
              " '왜곡된 신체상': 99,\n",
              " '수면 후에도 피로함': 100,\n",
              " '성격의변화': 101,\n",
              " '낮은 학업 성취': 102,\n",
              " '충동 조절 어려움': 103,\n",
              " '낮은 지능': 104,\n",
              " '긴장': 105,\n",
              " '피부 긴장도 저하': 106,\n",
              " '정신 지체': 107,\n",
              " '몽유병': 108,\n",
              " '반신마비': 109,\n",
              " '권리를 강하게 주장': 110,\n",
              " '시야장애': 111,\n",
              " '에너지가 적음': 112,\n",
              " '발기부전': 113,\n",
              " '변실금': 114,\n",
              " '이상행동': 115,\n",
              " '광과민성': 116,\n",
              " '말을 많이 함': 117,\n",
              " '우유부단함': 118,\n",
              " '읽기 자체의 문제': 119,\n",
              " '사회성 부족': 120,\n",
              " '애착 상대와 분리 거부': 121,\n",
              " '눈의 피로': 122,\n",
              " '높아진 자존심': 123,\n",
              " '비현실감': 124,\n",
              " '위험한 행동 반복': 125,\n",
              " '원한': 126,\n",
              " '읽으려 하지 않음': 127,\n",
              " '행동장애': 128,\n",
              " '상동적 행동': 129,\n",
              " '사회적 고립': 130,\n",
              " '운동장애': 131,\n",
              " '충동적 도벽': 132,\n",
              " '이상한 소리를 냄': 133,\n",
              " '다리 통증': 134,\n",
              " '직무 태만': 135,\n",
              " '나쁜 품행': 136,\n",
              " '체중증가': 137,\n",
              " '희망이 없는 느낌': 138,\n",
              " '신경과민': 139,\n",
              " '이인증': 140,\n",
              " '손발을 계속 움직임': 141,\n",
              " '병원 쇼핑': 142,\n",
              " '비정상적인 움직임': 143,\n",
              " '감각 과민': 144,\n",
              " '걸핏하면 눈물지음': 145,\n",
              " '반사회적 인격장애': 146,\n",
              " '반복적인 동작': 147,\n",
              " '강박증': 148,\n",
              " '이성의 옷을 착용함': 149,\n",
              " '고정된 믿음': 150,\n",
              " '흥분': 151,\n",
              " '말더듬': 152,\n",
              " '거짓 증상 호소': 153,\n",
              " '읽기': 154,\n",
              " '정서 및 행동의 일탈': 155,\n",
              " '비관주의': 156,\n",
              " '안구진탕': 157,\n",
              " '설사': 158,\n",
              " '수면 중 보행': 159,\n",
              " '음식섭취 거부': 160,\n",
              " '무논리증': 161,\n",
              " '사고의 비약': 162,\n",
              " '질병에 대한 공포': 163,\n",
              " '오후 우울감 완화': 164,\n",
              " '금단증상': 165,\n",
              " '쓰기 능력 부족': 166,\n",
              " '저체중': 167,\n",
              " '깨어나면 기억하지 못함': 168,\n",
              " '좁은 공간에서의 불안감': 169,\n",
              " '마비': 170,\n",
              " '정서장애': 171,\n",
              " '관음증': 172,\n",
              " '거칠어진 피부': 173,\n",
              " '눈의 충혈': 174,\n",
              " '질투': 175}"
            ]
          },
          "metadata": {},
          "execution_count": 12
        }
      ]
    },
    {
      "cell_type": "code",
      "execution_count": null,
      "metadata": {
        "id": "JIvdzwL9_GYf"
      },
      "outputs": [],
      "source": [
        "#테스트 데이터셋에 기존 증상을 제외한 일치하지 않는 증상 랜덤으로 추가\n",
        "def add_offset(y_test, x_test):\n",
        "  for disease, symptoms in zip(y_test, x_test):\n",
        "    disease_name =  encoder.classes_[disease]\n",
        "    ind = -1\n",
        "    for index, i in enumerate(data_original['disease']):\n",
        "      if disease_name == i:\n",
        "        ind = index\n",
        "    flag = True\n",
        "    while flag:\n",
        "      rand_ind = randint(1, 177)\n",
        "      for k, symp in enumerate(word_index):\n",
        "        if k+1 == rand_ind:\n",
        "          if symp in data_original.iloc[ind]['symptoms']:\n",
        "            break\n",
        "          else:\n",
        "            symptoms.append(symp)\n",
        "            flag = False\n",
        "            break"
      ]
    },
    {
      "cell_type": "code",
      "execution_count": null,
      "metadata": {
        "id": "WY5MPt4x_GYf",
        "outputId": "50da8b6d-e704-4ff0-9b0d-70d752d16503",
        "colab": {
          "base_uri": "https://localhost:8080/"
        }
      },
      "outputs": [
        {
          "output_type": "execute_result",
          "data": {
            "text/plain": [
              "array([37, 37, 37, ..., 37, 37, 37])"
            ]
          },
          "metadata": {},
          "execution_count": 14
        }
      ],
      "source": [
        "add_offset(y_test, x_test)\n",
        "x_test\n",
        "y_test"
      ]
    },
    {
      "cell_type": "code",
      "source": [
        "#데이터를 sequence로 변환해주고 padding 해줍니다.\n",
        "train_sequences = tokenizer.texts_to_sequences(x_train)\n",
        "train_padded = pad_sequences(train_sequences, padding=padding_type, maxlen=max_length)\n",
        "\n",
        "test_sequences = tokenizer.texts_to_sequences(x_test)\n",
        "test_padded = pad_sequences(test_sequences, padding=padding_type, maxlen=max_length)"
      ],
      "metadata": {
        "id": "qHXKN_3OhWAq"
      },
      "execution_count": null,
      "outputs": []
    },
    {
      "cell_type": "code",
      "source": [
        "test_padded"
      ],
      "metadata": {
        "colab": {
          "base_uri": "https://localhost:8080/"
        },
        "id": "ivO17gc8hYio",
        "outputId": "1816fa36-ccd2-428e-fe0d-87b136bcf4e9"
      },
      "execution_count": null,
      "outputs": [
        {
          "output_type": "execute_result",
          "data": {
            "text/plain": [
              "array([[ 4,  1,  2, ...,  0,  0,  0],\n",
              "       [ 1,  7,  3, ...,  0,  0,  0],\n",
              "       [ 3, 13, 10, ...,  0,  0,  0],\n",
              "       ...,\n",
              "       [ 5,  4,  1, ...,  0,  0,  0],\n",
              "       [ 4,  1,  7, ...,  0,  0,  0],\n",
              "       [ 5,  4,  1, ...,  0,  0,  0]], dtype=int32)"
            ]
          },
          "metadata": {},
          "execution_count": 16
        }
      ]
    },
    {
      "cell_type": "code",
      "execution_count": null,
      "metadata": {
        "id": "yTp7P7qQ_GYf"
      },
      "outputs": [],
      "source": [
        "#가벼운 NLP모델 생성\n",
        "model = tf.keras.Sequential([\n",
        "    tf.keras.layers.Embedding(vocab_size, embedding_dim, input_length=max_length),\n",
        "    tf.keras.layers.GlobalAveragePooling1D(),\n",
        "    tf.keras.layers.Dense(24, activation='relu'),\n",
        "    tf.keras.layers.Dense(64, activation='softmax')\n",
        "])"
      ]
    },
    {
      "cell_type": "code",
      "execution_count": null,
      "metadata": {
        "id": "sq-oDbD0_GYg",
        "outputId": "4541e15f-7188-4ef1-ca54-14bbc9a58f4f",
        "colab": {
          "base_uri": "https://localhost:8080/"
        }
      },
      "outputs": [
        {
          "output_type": "stream",
          "name": "stdout",
          "text": [
            "Model: \"sequential\"\n",
            "_________________________________________________________________\n",
            " Layer (type)                Output Shape              Param #   \n",
            "=================================================================\n",
            " embedding (Embedding)       (None, 17, 8)             1424      \n",
            "                                                                 \n",
            " global_average_pooling1d (G  (None, 8)                0         \n",
            " lobalAveragePooling1D)                                          \n",
            "                                                                 \n",
            " dense (Dense)               (None, 24)                216       \n",
            "                                                                 \n",
            " dense_1 (Dense)             (None, 64)                1600      \n",
            "                                                                 \n",
            "=================================================================\n",
            "Total params: 3,240\n",
            "Trainable params: 3,240\n",
            "Non-trainable params: 0\n",
            "_________________________________________________________________\n",
            "None\n"
          ]
        }
      ],
      "source": [
        "# compile model\n",
        "model.compile(loss='sparse_categorical_crossentropy',\n",
        "              optimizer='adam',\n",
        "              metrics=['accuracy'])\n",
        "\n",
        "# model summary\n",
        "print(model.summary())"
      ]
    },
    {
      "cell_type": "code",
      "execution_count": null,
      "metadata": {
        "id": "JpkSbup-_GYg",
        "colab": {
          "base_uri": "https://localhost:8080/"
        },
        "outputId": "f5e22644-e8d9-49dd-8ca8-f23aef5e50fe"
      },
      "outputs": [
        {
          "output_type": "stream",
          "name": "stdout",
          "text": [
            "Epoch 1/20\n",
            "1598/1598 - 4s - loss: 0.7005 - accuracy: 0.8688 - val_loss: 0.2553 - val_accuracy: 0.9229 - 4s/epoch - 2ms/step\n",
            "Epoch 2/20\n",
            "1598/1598 - 3s - loss: 0.1594 - accuracy: 0.9634 - val_loss: 0.1150 - val_accuracy: 0.9719 - 3s/epoch - 2ms/step\n",
            "Epoch 3/20\n",
            "1598/1598 - 3s - loss: 0.0991 - accuracy: 0.9756 - val_loss: 0.0882 - val_accuracy: 0.9793 - 3s/epoch - 2ms/step\n",
            "Epoch 4/20\n",
            "1598/1598 - 3s - loss: 0.0782 - accuracy: 0.9812 - val_loss: 0.0692 - val_accuracy: 0.9842 - 3s/epoch - 2ms/step\n",
            "Epoch 5/20\n",
            "1598/1598 - 4s - loss: 0.0621 - accuracy: 0.9849 - val_loss: 0.0568 - val_accuracy: 0.9870 - 4s/epoch - 2ms/step\n",
            "Epoch 6/20\n",
            "1598/1598 - 3s - loss: 0.0513 - accuracy: 0.9873 - val_loss: 0.0499 - val_accuracy: 0.9872 - 3s/epoch - 2ms/step\n",
            "Epoch 7/20\n",
            "1598/1598 - 3s - loss: 0.0444 - accuracy: 0.9886 - val_loss: 0.0436 - val_accuracy: 0.9887 - 3s/epoch - 2ms/step\n",
            "Epoch 8/20\n",
            "1598/1598 - 3s - loss: 0.0400 - accuracy: 0.9895 - val_loss: 0.0406 - val_accuracy: 0.9897 - 3s/epoch - 2ms/step\n",
            "Epoch 9/20\n",
            "1598/1598 - 3s - loss: 0.0370 - accuracy: 0.9900 - val_loss: 0.0393 - val_accuracy: 0.9894 - 3s/epoch - 2ms/step\n",
            "Epoch 10/20\n",
            "1598/1598 - 3s - loss: 0.0346 - accuracy: 0.9906 - val_loss: 0.0368 - val_accuracy: 0.9904 - 3s/epoch - 2ms/step\n",
            "Epoch 11/20\n",
            "1598/1598 - 3s - loss: 0.0327 - accuracy: 0.9911 - val_loss: 0.0348 - val_accuracy: 0.9916 - 3s/epoch - 2ms/step\n",
            "Epoch 12/20\n",
            "1598/1598 - 3s - loss: 0.0313 - accuracy: 0.9914 - val_loss: 0.0344 - val_accuracy: 0.9914 - 3s/epoch - 2ms/step\n",
            "Epoch 13/20\n",
            "1598/1598 - 3s - loss: 0.0300 - accuracy: 0.9917 - val_loss: 0.0330 - val_accuracy: 0.9908 - 3s/epoch - 2ms/step\n",
            "Epoch 14/20\n",
            "1598/1598 - 3s - loss: 0.0290 - accuracy: 0.9916 - val_loss: 0.0322 - val_accuracy: 0.9916 - 3s/epoch - 2ms/step\n",
            "Epoch 15/20\n",
            "1598/1598 - 3s - loss: 0.0278 - accuracy: 0.9921 - val_loss: 0.0322 - val_accuracy: 0.9910 - 3s/epoch - 2ms/step\n",
            "Epoch 16/20\n",
            "1598/1598 - 3s - loss: 0.0272 - accuracy: 0.9917 - val_loss: 0.0313 - val_accuracy: 0.9919 - 3s/epoch - 2ms/step\n",
            "Epoch 17/20\n",
            "1598/1598 - 3s - loss: 0.0264 - accuracy: 0.9920 - val_loss: 0.0309 - val_accuracy: 0.9920 - 3s/epoch - 2ms/step\n",
            "Epoch 18/20\n",
            "1598/1598 - 3s - loss: 0.0257 - accuracy: 0.9924 - val_loss: 0.0296 - val_accuracy: 0.9921 - 3s/epoch - 2ms/step\n",
            "Epoch 19/20\n",
            "1598/1598 - 3s - loss: 0.0250 - accuracy: 0.9924 - val_loss: 0.0298 - val_accuracy: 0.9919 - 3s/epoch - 2ms/step\n",
            "Epoch 20/20\n",
            "1598/1598 - 3s - loss: 0.0244 - accuracy: 0.9924 - val_loss: 0.0289 - val_accuracy: 0.9914 - 3s/epoch - 2ms/step\n"
          ]
        }
      ],
      "source": [
        "# fit model\n",
        "num_epochs = 20\n",
        "#history = model.fit(train_padded, y_train, \n",
        "                    #epochs=1000, verbose=2)\n",
        "history = model.fit(train_padded, y_train, \n",
        "                     epochs=num_epochs, verbose=2, \n",
        "                     validation_split=0.2)"
      ]
    },
    {
      "cell_type": "code",
      "execution_count": null,
      "metadata": {
        "id": "3RTbdTz9_GYg",
        "outputId": "542fc333-d4ba-4e77-acd6-8957b7dfbd66",
        "colab": {
          "base_uri": "https://localhost:8080/"
        }
      },
      "outputs": [
        {
          "output_type": "stream",
          "name": "stdout",
          "text": [
            "500/500 - 1s - 762ms/epoch - 2ms/step\n",
            "학습용으로 다시 예측해봄\n"
          ]
        },
        {
          "output_type": "execute_result",
          "data": {
            "text/plain": [
              "array(['신체형 장애', '신체형 장애', '신체형 장애', ..., '신체형 장애', '신체형 장애', '신체형 장애'],\n",
              "      dtype=object)"
            ]
          },
          "metadata": {},
          "execution_count": 20
        }
      ],
      "source": [
        "# 여기 부분의 train_padded 부분을 새로운 데이터 셋을 생성해주면 됨\n",
        "y_prob = model.predict(test_padded, verbose=2) \n",
        "predicted = y_prob.argmax(axis=-1)\n",
        "# 그리고 n번의 질문 역시도 이것을 바탕으로 진행됨\n",
        "\n",
        "# 모델이 여러번 사용될 예정\n",
        "\n",
        "print(\"학습용으로 다시 예측해봄\")\n",
        "\n",
        "encoder.classes_[predicted]"
      ]
    },
    {
      "cell_type": "code",
      "source": [
        "getAccuracy(predicted, y_test)"
      ],
      "metadata": {
        "id": "oglQrhDKAWW-",
        "outputId": "0785d51d-b07f-4aaa-c7c4-d62f0e7e39f9",
        "colab": {
          "base_uri": "https://localhost:8080/"
        }
      },
      "execution_count": null,
      "outputs": [
        {
          "output_type": "execute_result",
          "data": {
            "text/plain": [
              "98.53566958698373"
            ]
          },
          "metadata": {},
          "execution_count": 21
        }
      ]
    },
    {
      "cell_type": "code",
      "execution_count": null,
      "metadata": {
        "id": "zE8qzlK0_GYg",
        "outputId": "91f92a17-3fc0-4ef6-f0d8-a551ab767697",
        "colab": {
          "base_uri": "https://localhost:8080/"
        }
      },
      "outputs": [
        {
          "output_type": "stream",
          "name": "stdout",
          "text": [
            "['강박 장애' '건강염려증' '경계성 인격장애' '공황 장애' '과호흡 증후군' '광장공포증' '금단 현상' '기분부전증'\n",
            " '난독증' '뇌경색' '뚜렛 증후군' '레트 증후군' '말더듬이' '망상 장애' '뮌하우젠 증후군' '반사회성 인격장애'\n",
            " '반응성 애착장애' '발모벽' '베르니케 코시코프 증후군' '병적 도벽' '병적 방화' '분리 불안 장애' '분열정동 장애'\n",
            " '불면증' '불안 장애' '사회공포증' '산후 우울증' '섬망' '섭식 장애' '성도착증' '성인 주의력 결핍 과잉행동장애'\n",
            " '소아청소년기 우울증' '수면 무호흡증' '수면 장애' '수면보행증' '신경성 식욕부진증' '신경성 폭식증' '신체형 장애'\n",
            " '실어증' '아스퍼거 증후군' '알츠하이머병' '알코올 의존성' '알코올성 치매' '양극성 장애' '얼렌 증후군'\n",
            " '외상 후 스트레스 장애' '외상성 치매' '우울증' '의상도착증' '인터넷 중독' '자폐증 / 자폐 스펙트럼 장애' '적응 장애'\n",
            " '조현병' '주의력결핍 과잉행동장애' '지적장애' '치매' '틱 장애' '편집성 인격장애' '폐소공포증' '하지불안증후군'\n",
            " '해리 장애' '행동 및 충동 장애' '혈관성 치매' '히스테리성 인격장애']\n"
          ]
        }
      ],
      "source": [
        "# 질병 라벨링 순서\n",
        "print(encoder.classes_)"
      ]
    },
    {
      "cell_type": "markdown",
      "source": [
        "---\n",
        "# 여기서부터 추가 \n",
        "\n"
      ],
      "metadata": {
        "id": "R9aScsFPJ4k_"
      }
    },
    {
      "cell_type": "markdown",
      "source": [
        "더이상 입력할 증상이 없으면 종료\n",
        "90%는 넘겨보자\n",
        "\n",
        "안되면 어떤 증상을 물어보지?\n",
        "\n",
        "현재 입력한 증상이 있는 질병중 가장 많이 출현하는 증상을 물어보자 예를 들면\n",
        "\n",
        "\"당신은 (해당 증상)을 가졌을 확률이 높습니다.\"\n",
        "\n",
        "전제\n",
        "1. 환자가 거짓된 증상을 입력하지 않는다\n",
        "2. 오타가 나지 않는다 >> 뛰어쓰기같은건 replace(\" \", \"\")로 처음부터 지우고 나머지는 다시 하라고 하자"
      ],
      "metadata": {
        "id": "mOYHCn1prmQb"
      }
    },
    {
      "cell_type": "markdown",
      "source": [],
      "metadata": {
        "id": "VNb4QZN2u-Wn"
      }
    },
    {
      "cell_type": "markdown",
      "source": [
        "#subset_data를 입력받음"
      ],
      "metadata": {
        "id": "7AYCo2Xmu_-Y"
      }
    },
    {
      "cell_type": "code",
      "source": [
        "# #subset_data를 입력받았을 경우\n",
        "# sample_symp = sample['symptoms'].apply(listing)\n",
        "\n",
        "# for i in range(len(sample_symp)):\n",
        "#   pat_word_index = sample_symp[i]\n",
        "#   pat_word_array = np.array(pd.Series([pat_word_index]))\n",
        "\n",
        "#   ##데이터를 sequence로 변환해주고 padding 해줍니다.\n",
        "#   pat_sequences = tokenizer.texts_to_sequences(pat_word_array.tolist())\n",
        "#   pat_padded = pad_sequences(pat_sequences, padding=padding_type, maxlen=max_length)\n",
        "\n",
        "#   ##확률 계산\n",
        "#   y_prob = model.predict(pat_padded, verbose=2)\n",
        "#   predicted = y_prob.argmax(axis=-1)\n",
        "\n",
        "#   print(\"당신의 증상은 \"+str(y_prob[0][predicted[0]]*100)+\"%의 확률로 \"+encoder.classes_[predicted][0]+\" 입니다.\")\n",
        "#   print(\"정답은\",sample['disease'][i],\"입니다.\\n\")"
      ],
      "metadata": {
        "id": "iJtTEZbiezsE"
      },
      "execution_count": null,
      "outputs": []
    },
    {
      "cell_type": "markdown",
      "source": [
        "#직접 증상을 입력받음"
      ],
      "metadata": {
        "id": "4kMy0e2Fu6Pz"
      }
    },
    {
      "cell_type": "code",
      "source": [
        "def find_mode(pat_word_index):#입력받은 증상 배열\n",
        "  ##어떤 질병에 포함된 증상인지\n",
        "  sample_train = []#증상의 index\n",
        "  torf = True\n",
        "  for i in range(len(data['symptoms'])):#전체 증상\n",
        "    for j in range(len(pat_word_index)):#입력받은 증상\n",
        "      torf = pat_word_index[j] in data['symptoms'][i]\n",
        "      if(not torf):break\n",
        "    if(torf): sample_train.append(i)\n",
        "    ##모든 증상 시리즈를 다 돌면서 한 시리즈에 환자의 증상이 다 들어가 있으면 torf는 계속 true, 끝까지 true면 해당 질병을 append\n",
        "\n",
        "  ld_symp = []#주어진 증상 배열을 포함하는 질병들의 증상 목록\n",
        "  for i in data['symptoms'][sample_train]:\n",
        "    for j in i:\n",
        "      ld_symp.append(j)\n",
        "\n",
        "  max = -1\n",
        "  max_arr = []\n",
        "  chk_symp = pat_word_index.copy()\n",
        "  for i in ld_symp:#어떤 증상 i를 확인해볼까?\n",
        "    count = 0\n",
        "    if(i not in chk_symp):\n",
        "      for j in ld_symp:#이 증상이 몇 개 있는지 배열을 돌아볼까?\n",
        "        if(i == j): count += 1#i 증상이 j로 나오면 1회 추가\n",
        "      \n",
        "      if(count > max):#새로운 최빈값\n",
        "        max_arr = [i]\n",
        "        max = count\n",
        "\n",
        "      elif(count == max):#이것도 최빈값\n",
        "        max_arr.append(i)\n",
        "\n",
        "    chk_symp.append(i)\n",
        "  return max_arr"
      ],
      "metadata": {
        "id": "fiQ86XdJ7nJI"
      },
      "execution_count": null,
      "outputs": []
    },
    {
      "cell_type": "code",
      "source": [
        "# #증상 목록 출력\n",
        "# for i in word_index.keys():\n",
        "#   print(i)\n",
        "\n",
        "#증상 수 초과시 종료\n",
        "count = 1\n",
        "\n",
        "#첫 증상 입력\n",
        "\n",
        "##증상 입력받을 배열\n",
        "pat_word_index = []\n",
        "pat_symp = input(\"\\n위 증상중 해당하는 증상을 하나씩 입력해주세요 (없으면 엔터) : \")\n",
        "pat_word_index.append(pat_symp)\n",
        "\n",
        "pat_word_array = np.array(pd.Series([pat_word_index]))\n",
        "\n",
        "##데이터를 sequence로 변환해주고 padding 해줍니다.\n",
        "pat_sequences = tokenizer.texts_to_sequences(pat_word_array.tolist())\n",
        "pat_padded = pad_sequences(pat_sequences, padding=padding_type, maxlen=max_length)\n",
        "\n",
        "##확률 계산\n",
        "y_prob = model.predict(pat_padded, verbose=0)\n",
        "predicted = y_prob.argmax(axis=-1)\n",
        "\n",
        "#두번째 이상의 증상 입력\n",
        "del_token = \"[']\"\n",
        "\n",
        "while (y_prob[0][predicted[0]] < 0.9) and (pat_symp !='') and (count <= vocab_size):#1. 확률이 90% 미만, 빈칸이 아님, 최대치만큼 안돌음\n",
        "  target_symptoms = data_subset['symptoms'][data_subset['disease'].ne(encoder.classes_[predicted][0]).idxmin()]\n",
        "  \n",
        "  for t in del_token:\n",
        "    target_symptoms = target_symptoms.replace(t, \"\")\n",
        "  target_symptoms = target_symptoms.split(',')\n",
        "\n",
        "  new = []\n",
        "\n",
        "  for t in target_symptoms:\n",
        "    if len(t) > 0 and t[0] == \" \":\n",
        "      t = t[1:]\n",
        "    new.append(t)\n",
        "  \n",
        "  for t in new:\n",
        "    if t in pat_word_index:\n",
        "      new.remove(t)\n",
        "\n",
        "  count = 0\n",
        "\n",
        "  while len(new) > 0:\n",
        "    count += 1\n",
        "    rand_ind = random.randrange(0, len(new))\n",
        "\n",
        "    next_symp = new[rand_ind]\n",
        "\n",
        "    yn = input(\"\\n\" + str(count) + \". \" + next_symp + \" 증상이 있으십니까? (y/n): \")\n",
        "\n",
        "    if yn == 'y':\n",
        "      pat_symp = next_symp\n",
        "      break;\n",
        "    else:\n",
        "      del new[rand_ind]\n",
        "\n",
        "  pat_word_index.append(pat_symp)\n",
        "\n",
        "  pat_word_array = np.array(pd.Series([pat_word_index]))\n",
        "\n",
        "  ##데이터를 sequence로 변환해주고 padding 해줍니다.\n",
        "  pat_sequences = tokenizer.texts_to_sequences(pat_word_array.tolist())\n",
        "  pat_padded = pad_sequences(pat_sequences, padding=padding_type, maxlen=max_length)\n",
        "\n",
        "  ##확률 계산\n",
        "  y_prob = model.predict(pat_padded, verbose=0)\n",
        "  predicted = y_prob.argmax(axis=-1)\n",
        "\n",
        "  count += 1\n",
        "\n",
        "pat_word_index = pat_word_index[:-1]\n",
        "print(\"예측이 완료되었습니다.\")\n"
      ],
      "metadata": {
        "colab": {
          "base_uri": "https://localhost:8080/"
        },
        "id": "zKzluwJbs4Io",
        "outputId": "56a5e210-f67b-41f8-eb67-ae2939179625"
      },
      "execution_count": null,
      "outputs": [
        {
          "output_type": "stream",
          "name": "stdout",
          "text": [
            "\n",
            "위 증상중 해당하는 증상을 하나씩 입력해주세요 (없으면 엔터) : 우울\n",
            "\n",
            "1. 인내심이 부족함 증상이 있으십니까? (y/n): n\n",
            "\n",
            "2. 산만함 증상이 있으십니까? (y/n): n\n",
            "\n",
            "3. 손발을 계속 움직임 증상이 있으십니까? (y/n): y\n",
            "\n",
            "1. 의심 증상이 있으십니까? (y/n): y\n",
            "\n",
            "1. 대인관계 어려움 증상이 있으십니까? (y/n): y\n",
            "예측이 완료되었습니다.\n"
          ]
        }
      ]
    },
    {
      "cell_type": "code",
      "source": [
        "#결과 출력\n",
        "\n",
        "##확률이 90%가 넘어서 멈춘 경우\n",
        "if(y_prob[0][predicted[0]] >0.9):\n",
        "  print(\"당신의 증상은 \"+str(y_prob[0][predicted[0]]*100)+\"%의 확률로 \"+encoder.classes_[predicted][0]+\" 입니다.\")\n",
        "\n",
        "##더이상 입력을 안한 경우, 즉 입력을 완료한 경우\n",
        "else:\n",
        "  print(\"현재 입력해주신 증상으로는 \"+str(y_prob[0][predicted[0]]*100)+\"%의 확률로 \"+encoder.classes_[predicted][0]+\" 입니다.\")"
      ],
      "metadata": {
        "colab": {
          "base_uri": "https://localhost:8080/"
        },
        "id": "e3wPt82XncXN",
        "outputId": "527ba0c4-7eb2-4fcd-fabd-1eaf35b8e141"
      },
      "execution_count": null,
      "outputs": [
        {
          "output_type": "stream",
          "name": "stdout",
          "text": [
            "당신의 증상은 90.09684324264526%의 확률로 경계성 인격장애 입니다.\n"
          ]
        }
      ]
    },
    {
      "cell_type": "markdown",
      "source": [
        "해야 할 내용\n",
        "\n",
        "---\n",
        "\n",
        "* 알코올성 치매, 히스테리성 인격장애는 증상이 없고, 증상이 없는 경우 확률은 30%대가 최대라 판별이 불가능한데 어떻게 해결할까 >> 일정 확률 이상의 질병들을 모두 출력할까?"
      ],
      "metadata": {
        "id": "L4U8e_PIlJwj"
      }
    }
  ],
  "metadata": {
    "kernelspec": {
      "display_name": "Python 3.9.12 ('base')",
      "language": "python",
      "name": "python3"
    },
    "language_info": {
      "codemirror_mode": {
        "name": "ipython",
        "version": 3
      },
      "file_extension": ".py",
      "mimetype": "text/x-python",
      "name": "python",
      "nbconvert_exporter": "python",
      "pygments_lexer": "ipython3",
      "version": "3.9.12"
    },
    "orig_nbformat": 4,
    "vscode": {
      "interpreter": {
        "hash": "a077222d77dfe082b8f1dd562ad70e458ac2ab76993a0b248ab0476e32e9e8dd"
      }
    },
    "colab": {
      "provenance": [],
      "collapsed_sections": []
    }
  },
  "nbformat": 4,
  "nbformat_minor": 0
}