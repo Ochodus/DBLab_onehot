{
  "cells": [
    {
      "cell_type": "markdown",
      "metadata": {
        "id": "view-in-github",
        "colab_type": "text"
      },
      "source": [
        "<a href=\"https://colab.research.google.com/github/Ochodus/DBLab_onehot/blob/main/Subsetting.ipynb\" target=\"_parent\"><img src=\"https://colab.research.google.com/assets/colab-badge.svg\" alt=\"Open In Colab\"/></a>"
      ]
    },
    {
      "cell_type": "code",
      "execution_count": 1,
      "metadata": {
        "colab": {
          "base_uri": "https://localhost:8080/"
        },
        "id": "HyF-z1VKIvaG",
        "outputId": "0eab914a-0201-40ca-f94e-f0a98d7a815b"
      },
      "outputs": [
        {
          "output_type": "stream",
          "name": "stdout",
          "text": [
            "Mounted at /content/drive\n"
          ]
        }
      ],
      "source": [
        "from google.colab import drive\n",
        "drive.mount('/content/drive')"
      ]
    },
    {
      "cell_type": "code",
      "execution_count": 2,
      "metadata": {
        "id": "ZimWURFkI6Jk"
      },
      "outputs": [],
      "source": [
        "import pandas as pd\n",
        "import numpy as np\n",
        "import random\n",
        "from google.colab.data_table import DataTable"
      ]
    },
    {
      "cell_type": "code",
      "execution_count": 3,
      "metadata": {
        "id": "8q5z7iqbJW6Z"
      },
      "outputs": [],
      "source": [
        "origin_data = pd.read_excel('drive/MyDrive/DBLab_Onehot/mental_health_medical_data.xlsx')\n",
        "DataTable.max_columns = 200"
      ]
    },
    {
      "cell_type": "code",
      "source": [
        "#증상을 array형태로 변환\n",
        "def tokenizer(df):\n",
        "  tokenized = df.copy()\n",
        "  del_token = \"[']\"\n",
        "  all_token = []\n",
        "\n",
        "  for k, s in enumerate(df['symptoms']):\n",
        "    symptoms = []\n",
        "    for t in del_token:\n",
        "      s = s.replace(t, \"\")\n",
        "    s = s.split(',')\n",
        "    for i in s:\n",
        "      if len(i) > 0 and i[0] == \" \":\n",
        "        i = i[1:]\n",
        "      symptoms.append(i)\n",
        "    if symptoms[0] == \"\":\n",
        "      symptoms.clear()\n",
        "\n",
        "    all_token.append(symptoms)\n",
        "\n",
        "  tokenized.drop(\"symptoms\", axis=1, inplace=True)\n",
        "  tokenized.insert(2, \"symptoms\", all_token, True)\n",
        "\n",
        "  return tokenized\n",
        "\n",
        "#각 질병의 증상 집합에서 모든 부분집합 구하기\n",
        "def subset(df):\n",
        "  subsetted = df.copy()\n",
        "  subset = []\n",
        "  for i, s in enumerate(df['symptoms']):\n",
        "    if len(s) == 0:\n",
        "      continue\n",
        "    subsets = [[]]\n",
        "    max_len = pow(2, len(s)-1)\n",
        "    for t in s:\n",
        "      size = len(subsets)\n",
        "      for k in range(size):\n",
        "        if size == max_len:\n",
        "          continue\n",
        "        subsets.append(subsets[k]+[t])\n",
        "    for subs in subsets:\n",
        "      target = subsetted['disease'].ne(df['disease'][i]).idxmin()\n",
        "      new_row = pd.DataFrame([[df['disease'][i], subs, '정신건강의학과']], columns = subsetted.columns)\n",
        "      subsetted = pd.concat([subsetted.iloc[:target+1], new_row, subsetted.iloc[target+1:]], ignore_index = True)\n",
        "\n",
        "  return subsetted"
      ],
      "metadata": {
        "id": "2OZ7wmBJyNiL"
      },
      "execution_count": 4,
      "outputs": []
    },
    {
      "cell_type": "code",
      "source": [
        "origin_data['symptoms']\n",
        "tokenized = tokenizer(origin_data)\n",
        "tokenized.drop('Unnamed: 0', axis=1, inplace=True)\n",
        "tokenized"
      ],
      "metadata": {
        "colab": {
          "base_uri": "https://localhost:8080/",
          "height": 424
        },
        "id": "cWDMW78HQyhl",
        "outputId": "6b5a391c-2282-42c0-91bf-78fb966debbc"
      },
      "execution_count": 5,
      "outputs": [
        {
          "output_type": "execute_result",
          "data": {
            "text/plain": [
              "       disease                                           symptoms department\n",
              "0        강박 장애                                  [불안, 반복적인 동작, 의심]    정신건강의학과\n",
              "1     경계성 인격장애  [의심, 약물남용, 대인관계 어려움, 조절할 수 없는 충동감, 자살의 위험, 우울,...    정신건강의학과\n",
              "2        공황 장애  [숨막히는 느낌, 얼굴이 화끈거림, 가슴 통증, 죽음에 대한 공포, 어지러움, 발한...    정신건강의학과\n",
              "3        금단 현상  [복시, 손떨림, 고혈압, 서맥, 저혈압, 청색증, 불안, 기운없음, 불면증, 두통...    정신건강의학과\n",
              "4      분열정동 장애       [와해된 언어, 피해망상, 환각, 환시, 환청, 와해된 행동, 망상, 이상행동]    정신건강의학과\n",
              "..         ...                                                ...        ...\n",
              "59      혈관성 치매                            [언어장애, 인지장애, 감각 이상, 마비]    정신건강의학과\n",
              "60  히스테리성 인격장애                                                 []    정신건강의학과\n",
              "61      레트 증후군                        [상동적 행동, 인지장애, 운동장애, 정신 지체]    정신건강의학과\n",
              "62       폐소공포증                                 [불안, 좁은 공간에서의 불안감]    정신건강의학과\n",
              "63     과호흡 증후군  [흉부압박감, 불안, 의식 변화, 인지장애, 복부팽만감, 부정맥, 호흡곤란, 복부 ...    정신건강의학과\n",
              "\n",
              "[64 rows x 3 columns]"
            ],
            "text/html": [
              "\n",
              "  <div id=\"df-32e83ee0-2bde-475c-9a12-4149ec298e28\">\n",
              "    <div class=\"colab-df-container\">\n",
              "      <div>\n",
              "<style scoped>\n",
              "    .dataframe tbody tr th:only-of-type {\n",
              "        vertical-align: middle;\n",
              "    }\n",
              "\n",
              "    .dataframe tbody tr th {\n",
              "        vertical-align: top;\n",
              "    }\n",
              "\n",
              "    .dataframe thead th {\n",
              "        text-align: right;\n",
              "    }\n",
              "</style>\n",
              "<table border=\"1\" class=\"dataframe\">\n",
              "  <thead>\n",
              "    <tr style=\"text-align: right;\">\n",
              "      <th></th>\n",
              "      <th>disease</th>\n",
              "      <th>symptoms</th>\n",
              "      <th>department</th>\n",
              "    </tr>\n",
              "  </thead>\n",
              "  <tbody>\n",
              "    <tr>\n",
              "      <th>0</th>\n",
              "      <td>강박 장애</td>\n",
              "      <td>[불안, 반복적인 동작, 의심]</td>\n",
              "      <td>정신건강의학과</td>\n",
              "    </tr>\n",
              "    <tr>\n",
              "      <th>1</th>\n",
              "      <td>경계성 인격장애</td>\n",
              "      <td>[의심, 약물남용, 대인관계 어려움, 조절할 수 없는 충동감, 자살의 위험, 우울,...</td>\n",
              "      <td>정신건강의학과</td>\n",
              "    </tr>\n",
              "    <tr>\n",
              "      <th>2</th>\n",
              "      <td>공황 장애</td>\n",
              "      <td>[숨막히는 느낌, 얼굴이 화끈거림, 가슴 통증, 죽음에 대한 공포, 어지러움, 발한...</td>\n",
              "      <td>정신건강의학과</td>\n",
              "    </tr>\n",
              "    <tr>\n",
              "      <th>3</th>\n",
              "      <td>금단 현상</td>\n",
              "      <td>[복시, 손떨림, 고혈압, 서맥, 저혈압, 청색증, 불안, 기운없음, 불면증, 두통...</td>\n",
              "      <td>정신건강의학과</td>\n",
              "    </tr>\n",
              "    <tr>\n",
              "      <th>4</th>\n",
              "      <td>분열정동 장애</td>\n",
              "      <td>[와해된 언어, 피해망상, 환각, 환시, 환청, 와해된 행동, 망상, 이상행동]</td>\n",
              "      <td>정신건강의학과</td>\n",
              "    </tr>\n",
              "    <tr>\n",
              "      <th>...</th>\n",
              "      <td>...</td>\n",
              "      <td>...</td>\n",
              "      <td>...</td>\n",
              "    </tr>\n",
              "    <tr>\n",
              "      <th>59</th>\n",
              "      <td>혈관성 치매</td>\n",
              "      <td>[언어장애, 인지장애, 감각 이상, 마비]</td>\n",
              "      <td>정신건강의학과</td>\n",
              "    </tr>\n",
              "    <tr>\n",
              "      <th>60</th>\n",
              "      <td>히스테리성 인격장애</td>\n",
              "      <td>[]</td>\n",
              "      <td>정신건강의학과</td>\n",
              "    </tr>\n",
              "    <tr>\n",
              "      <th>61</th>\n",
              "      <td>레트 증후군</td>\n",
              "      <td>[상동적 행동, 인지장애, 운동장애, 정신 지체]</td>\n",
              "      <td>정신건강의학과</td>\n",
              "    </tr>\n",
              "    <tr>\n",
              "      <th>62</th>\n",
              "      <td>폐소공포증</td>\n",
              "      <td>[불안, 좁은 공간에서의 불안감]</td>\n",
              "      <td>정신건강의학과</td>\n",
              "    </tr>\n",
              "    <tr>\n",
              "      <th>63</th>\n",
              "      <td>과호흡 증후군</td>\n",
              "      <td>[흉부압박감, 불안, 의식 변화, 인지장애, 복부팽만감, 부정맥, 호흡곤란, 복부 ...</td>\n",
              "      <td>정신건강의학과</td>\n",
              "    </tr>\n",
              "  </tbody>\n",
              "</table>\n",
              "<p>64 rows × 3 columns</p>\n",
              "</div>\n",
              "      <button class=\"colab-df-convert\" onclick=\"convertToInteractive('df-32e83ee0-2bde-475c-9a12-4149ec298e28')\"\n",
              "              title=\"Convert this dataframe to an interactive table.\"\n",
              "              style=\"display:none;\">\n",
              "        \n",
              "  <svg xmlns=\"http://www.w3.org/2000/svg\" height=\"24px\"viewBox=\"0 0 24 24\"\n",
              "       width=\"24px\">\n",
              "    <path d=\"M0 0h24v24H0V0z\" fill=\"none\"/>\n",
              "    <path d=\"M18.56 5.44l.94 2.06.94-2.06 2.06-.94-2.06-.94-.94-2.06-.94 2.06-2.06.94zm-11 1L8.5 8.5l.94-2.06 2.06-.94-2.06-.94L8.5 2.5l-.94 2.06-2.06.94zm10 10l.94 2.06.94-2.06 2.06-.94-2.06-.94-.94-2.06-.94 2.06-2.06.94z\"/><path d=\"M17.41 7.96l-1.37-1.37c-.4-.4-.92-.59-1.43-.59-.52 0-1.04.2-1.43.59L10.3 9.45l-7.72 7.72c-.78.78-.78 2.05 0 2.83L4 21.41c.39.39.9.59 1.41.59.51 0 1.02-.2 1.41-.59l7.78-7.78 2.81-2.81c.8-.78.8-2.07 0-2.86zM5.41 20L4 18.59l7.72-7.72 1.47 1.35L5.41 20z\"/>\n",
              "  </svg>\n",
              "      </button>\n",
              "      \n",
              "  <style>\n",
              "    .colab-df-container {\n",
              "      display:flex;\n",
              "      flex-wrap:wrap;\n",
              "      gap: 12px;\n",
              "    }\n",
              "\n",
              "    .colab-df-convert {\n",
              "      background-color: #E8F0FE;\n",
              "      border: none;\n",
              "      border-radius: 50%;\n",
              "      cursor: pointer;\n",
              "      display: none;\n",
              "      fill: #1967D2;\n",
              "      height: 32px;\n",
              "      padding: 0 0 0 0;\n",
              "      width: 32px;\n",
              "    }\n",
              "\n",
              "    .colab-df-convert:hover {\n",
              "      background-color: #E2EBFA;\n",
              "      box-shadow: 0px 1px 2px rgba(60, 64, 67, 0.3), 0px 1px 3px 1px rgba(60, 64, 67, 0.15);\n",
              "      fill: #174EA6;\n",
              "    }\n",
              "\n",
              "    [theme=dark] .colab-df-convert {\n",
              "      background-color: #3B4455;\n",
              "      fill: #D2E3FC;\n",
              "    }\n",
              "\n",
              "    [theme=dark] .colab-df-convert:hover {\n",
              "      background-color: #434B5C;\n",
              "      box-shadow: 0px 1px 3px 1px rgba(0, 0, 0, 0.15);\n",
              "      filter: drop-shadow(0px 1px 2px rgba(0, 0, 0, 0.3));\n",
              "      fill: #FFFFFF;\n",
              "    }\n",
              "  </style>\n",
              "\n",
              "      <script>\n",
              "        const buttonEl =\n",
              "          document.querySelector('#df-32e83ee0-2bde-475c-9a12-4149ec298e28 button.colab-df-convert');\n",
              "        buttonEl.style.display =\n",
              "          google.colab.kernel.accessAllowed ? 'block' : 'none';\n",
              "\n",
              "        async function convertToInteractive(key) {\n",
              "          const element = document.querySelector('#df-32e83ee0-2bde-475c-9a12-4149ec298e28');\n",
              "          const dataTable =\n",
              "            await google.colab.kernel.invokeFunction('convertToInteractive',\n",
              "                                                     [key], {});\n",
              "          if (!dataTable) return;\n",
              "\n",
              "          const docLinkHtml = 'Like what you see? Visit the ' +\n",
              "            '<a target=\"_blank\" href=https://colab.research.google.com/notebooks/data_table.ipynb>data table notebook</a>'\n",
              "            + ' to learn more about interactive tables.';\n",
              "          element.innerHTML = '';\n",
              "          dataTable['output_type'] = 'display_data';\n",
              "          await google.colab.output.renderOutput(dataTable, element);\n",
              "          const docLink = document.createElement('div');\n",
              "          docLink.innerHTML = docLinkHtml;\n",
              "          element.appendChild(docLink);\n",
              "        }\n",
              "      </script>\n",
              "    </div>\n",
              "  </div>\n",
              "  "
            ]
          },
          "metadata": {},
          "execution_count": 5
        }
      ]
    },
    {
      "cell_type": "code",
      "execution_count": null,
      "metadata": {
        "id": "2MO05j92_GAU"
      },
      "outputs": [],
      "source": [
        "subsetted = subset(origin_data)\n",
        "subsetted.to_excel('drive/MyDrive/DBLab_Onehot/subset_data.xlsx')"
      ]
    }
  ],
  "metadata": {
    "colab": {
      "collapsed_sections": [],
      "provenance": [],
      "include_colab_link": true
    },
    "kernelspec": {
      "display_name": "Python 3",
      "name": "python3"
    }
  },
  "nbformat": 4,
  "nbformat_minor": 0
}