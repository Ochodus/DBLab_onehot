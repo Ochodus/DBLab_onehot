{
  "cells": [
    {
      "cell_type": "markdown",
      "metadata": {
        "id": "view-in-github",
        "colab_type": "text"
      },
      "source": [
        "<a href=\"https://colab.research.google.com/github/Ochodus/DBLab_onehot/blob/main/one_hot_encoding(Variant_models).ipynb\" target=\"_parent\"><img src=\"https://colab.research.google.com/assets/colab-badge.svg\" alt=\"Open In Colab\"/></a>"
      ]
    },
    {
      "cell_type": "code",
      "source": [
        "from google.colab import drive\n",
        "drive.mount('/content/drive')"
      ],
      "metadata": {
        "colab": {
          "base_uri": "https://localhost:8080/"
        },
        "id": "cKS6m2V122OA",
        "outputId": "9e549ae5-019d-488a-a990-aed09e3692c7"
      },
      "execution_count": 152,
      "outputs": [
        {
          "output_type": "stream",
          "name": "stdout",
          "text": [
            "Drive already mounted at /content/drive; to attempt to forcibly remount, call drive.mount(\"/content/drive\", force_remount=True).\n"
          ]
        }
      ]
    },
    {
      "cell_type": "code",
      "execution_count": 170,
      "metadata": {
        "id": "VtYFaAJg_GYZ"
      },
      "outputs": [],
      "source": [
        "import pandas as pd\n",
        "import numpy as np\n",
        "import warnings \n",
        "warnings.filterwarnings(action='ignore')\n",
        "import numpy as np\n",
        "import tensorflow as tf\n",
        "from tensorflow.keras.preprocessing.sequence import pad_sequences\n",
        "from tensorflow.keras.preprocessing.text import Tokenizer\n",
        "from sklearn import svm\n",
        "from sklearn import model_selection, naive_bayes, svm\n",
        "from sklearn.metrics import accuracy_score\n",
        "from sklearn import tree\n",
        "from sklearn.model_selection import train_test_split"
      ]
    },
    {
      "cell_type": "code",
      "execution_count": 171,
      "metadata": {
        "id": "UMEsfA8J_GYZ"
      },
      "outputs": [],
      "source": [
        "data_subset = pd.read_excel('drive/MyDrive/DBLab_Onehot/subset_data.xlsx') #확장 데이터\n",
        "data_original = pd.read_excel('drive/MyDrive/DBLab_Onehot/mental_health_medical_data.xlsx') #기존 데이터"
      ]
    },
    {
      "cell_type": "code",
      "source": [
        "data = pd.concat([data_subset, data_original]) #stratify 오류 방지를 위해 각 라벨 별로 최소 2개 이상의 데이터를 가지기 위한 concat"
      ],
      "metadata": {
        "id": "sB8ku-cWAaWa"
      },
      "execution_count": 172,
      "outputs": []
    },
    {
      "cell_type": "code",
      "execution_count": 173,
      "metadata": {
        "id": "QbaHPaMf_GYZ"
      },
      "outputs": [],
      "source": [
        "# 증상의 문자열 벗기기 함수\n",
        "def listing(x):\n",
        "    x = eval(x)\n",
        "    return x\n",
        "\n",
        "#모델 예측 정확도를 구하기 위한 간단한 함수\n",
        "def getAccuracy(prediction, target):\n",
        "  count = 0\n",
        "  for x, y in zip(prediction, target):\n",
        "    if x == y:\n",
        "      count += 1  \n",
        "  return count/len(prediction) * 100\n",
        "\n",
        "data['symptoms'] = data['symptoms'].apply(listing)"
      ]
    },
    {
      "cell_type": "code",
      "execution_count": 174,
      "metadata": {
        "id": "bM-nAoOW_GYb",
        "outputId": "a9688210-4022-48fe-9d51-b33088c97386",
        "colab": {
          "base_uri": "https://localhost:8080/"
        }
      },
      "outputs": [
        {
          "output_type": "stream",
          "name": "stdout",
          "text": [
            "인코딩 변환값: [ 0  2  2 ... 11 58  4]\n"
          ]
        }
      ],
      "source": [
        "#레이블 인코딩(타겟 문자열 불가)\n",
        "from sklearn.preprocessing import LabelEncoder\n",
        "items = data['disease']\n",
        "encoder = LabelEncoder()\n",
        "encoder.fit(items)\n",
        "labels = encoder.transform(items)\n",
        "\n",
        "print('인코딩 변환값:',labels)"
      ]
    },
    {
      "cell_type": "code",
      "execution_count": 175,
      "metadata": {
        "id": "3cOTXFlX_GYb",
        "outputId": "89feaa60-7e10-4cfa-cb7b-025f26b28246",
        "colab": {
          "base_uri": "https://localhost:8080/",
          "height": 424
        }
      },
      "outputs": [
        {
          "output_type": "execute_result",
          "data": {
            "text/plain": [
              "    Unnamed: 0     disease                                           symptoms  \\\n",
              "0          0.0       강박 장애                                  [불안, 반복적인 동작, 의심]   \n",
              "1          1.0    경계성 인격장애  [의심, 약물남용, 대인관계 어려움, 조절할 수 없는 충동감, 자살의 위험, 우울,...   \n",
              "2          2.0    경계성 인격장애     [의심, 약물남용, 대인관계 어려움, 조절할 수 없는 충동감, 자살의 위험, 우울]   \n",
              "3          3.0    경계성 인격장애         [약물남용, 대인관계 어려움, 조절할 수 없는 충동감, 자살의 위험, 우울]   \n",
              "4          4.0    경계성 인격장애           [의심, 대인관계 어려움, 조절할 수 없는 충동감, 자살의 위험, 우울]   \n",
              "..         ...         ...                                                ...   \n",
              "59        59.0      혈관성 치매                            [언어장애, 인지장애, 감각 이상, 마비]   \n",
              "60        60.0  히스테리성 인격장애                                                 []   \n",
              "61        61.0      레트 증후군                        [상동적 행동, 인지장애, 운동장애, 정신 지체]   \n",
              "62        62.0       폐소공포증                                 [불안, 좁은 공간에서의 불안감]   \n",
              "63        63.0     과호흡 증후군  [흉부압박감, 불안, 의식 변화, 인지장애, 복부팽만감, 부정맥, 호흡곤란, 복부 ...   \n",
              "\n",
              "   department  \n",
              "0     정신건강의학과  \n",
              "1     정신건강의학과  \n",
              "2     정신건강의학과  \n",
              "3     정신건강의학과  \n",
              "4     정신건강의학과  \n",
              "..        ...  \n",
              "59    정신건강의학과  \n",
              "60    정신건강의학과  \n",
              "61    정신건강의학과  \n",
              "62    정신건강의학과  \n",
              "63    정신건강의학과  \n",
              "\n",
              "[78822 rows x 4 columns]"
            ],
            "text/html": [
              "\n",
              "  <div id=\"df-64c0ac54-83ab-40da-a0d2-4f038326d760\">\n",
              "    <div class=\"colab-df-container\">\n",
              "      <div>\n",
              "<style scoped>\n",
              "    .dataframe tbody tr th:only-of-type {\n",
              "        vertical-align: middle;\n",
              "    }\n",
              "\n",
              "    .dataframe tbody tr th {\n",
              "        vertical-align: top;\n",
              "    }\n",
              "\n",
              "    .dataframe thead th {\n",
              "        text-align: right;\n",
              "    }\n",
              "</style>\n",
              "<table border=\"1\" class=\"dataframe\">\n",
              "  <thead>\n",
              "    <tr style=\"text-align: right;\">\n",
              "      <th></th>\n",
              "      <th>Unnamed: 0</th>\n",
              "      <th>disease</th>\n",
              "      <th>symptoms</th>\n",
              "      <th>department</th>\n",
              "    </tr>\n",
              "  </thead>\n",
              "  <tbody>\n",
              "    <tr>\n",
              "      <th>0</th>\n",
              "      <td>0.0</td>\n",
              "      <td>강박 장애</td>\n",
              "      <td>[불안, 반복적인 동작, 의심]</td>\n",
              "      <td>정신건강의학과</td>\n",
              "    </tr>\n",
              "    <tr>\n",
              "      <th>1</th>\n",
              "      <td>1.0</td>\n",
              "      <td>경계성 인격장애</td>\n",
              "      <td>[의심, 약물남용, 대인관계 어려움, 조절할 수 없는 충동감, 자살의 위험, 우울,...</td>\n",
              "      <td>정신건강의학과</td>\n",
              "    </tr>\n",
              "    <tr>\n",
              "      <th>2</th>\n",
              "      <td>2.0</td>\n",
              "      <td>경계성 인격장애</td>\n",
              "      <td>[의심, 약물남용, 대인관계 어려움, 조절할 수 없는 충동감, 자살의 위험, 우울]</td>\n",
              "      <td>정신건강의학과</td>\n",
              "    </tr>\n",
              "    <tr>\n",
              "      <th>3</th>\n",
              "      <td>3.0</td>\n",
              "      <td>경계성 인격장애</td>\n",
              "      <td>[약물남용, 대인관계 어려움, 조절할 수 없는 충동감, 자살의 위험, 우울]</td>\n",
              "      <td>정신건강의학과</td>\n",
              "    </tr>\n",
              "    <tr>\n",
              "      <th>4</th>\n",
              "      <td>4.0</td>\n",
              "      <td>경계성 인격장애</td>\n",
              "      <td>[의심, 대인관계 어려움, 조절할 수 없는 충동감, 자살의 위험, 우울]</td>\n",
              "      <td>정신건강의학과</td>\n",
              "    </tr>\n",
              "    <tr>\n",
              "      <th>...</th>\n",
              "      <td>...</td>\n",
              "      <td>...</td>\n",
              "      <td>...</td>\n",
              "      <td>...</td>\n",
              "    </tr>\n",
              "    <tr>\n",
              "      <th>59</th>\n",
              "      <td>59.0</td>\n",
              "      <td>혈관성 치매</td>\n",
              "      <td>[언어장애, 인지장애, 감각 이상, 마비]</td>\n",
              "      <td>정신건강의학과</td>\n",
              "    </tr>\n",
              "    <tr>\n",
              "      <th>60</th>\n",
              "      <td>60.0</td>\n",
              "      <td>히스테리성 인격장애</td>\n",
              "      <td>[]</td>\n",
              "      <td>정신건강의학과</td>\n",
              "    </tr>\n",
              "    <tr>\n",
              "      <th>61</th>\n",
              "      <td>61.0</td>\n",
              "      <td>레트 증후군</td>\n",
              "      <td>[상동적 행동, 인지장애, 운동장애, 정신 지체]</td>\n",
              "      <td>정신건강의학과</td>\n",
              "    </tr>\n",
              "    <tr>\n",
              "      <th>62</th>\n",
              "      <td>62.0</td>\n",
              "      <td>폐소공포증</td>\n",
              "      <td>[불안, 좁은 공간에서의 불안감]</td>\n",
              "      <td>정신건강의학과</td>\n",
              "    </tr>\n",
              "    <tr>\n",
              "      <th>63</th>\n",
              "      <td>63.0</td>\n",
              "      <td>과호흡 증후군</td>\n",
              "      <td>[흉부압박감, 불안, 의식 변화, 인지장애, 복부팽만감, 부정맥, 호흡곤란, 복부 ...</td>\n",
              "      <td>정신건강의학과</td>\n",
              "    </tr>\n",
              "  </tbody>\n",
              "</table>\n",
              "<p>78822 rows × 4 columns</p>\n",
              "</div>\n",
              "      <button class=\"colab-df-convert\" onclick=\"convertToInteractive('df-64c0ac54-83ab-40da-a0d2-4f038326d760')\"\n",
              "              title=\"Convert this dataframe to an interactive table.\"\n",
              "              style=\"display:none;\">\n",
              "        \n",
              "  <svg xmlns=\"http://www.w3.org/2000/svg\" height=\"24px\"viewBox=\"0 0 24 24\"\n",
              "       width=\"24px\">\n",
              "    <path d=\"M0 0h24v24H0V0z\" fill=\"none\"/>\n",
              "    <path d=\"M18.56 5.44l.94 2.06.94-2.06 2.06-.94-2.06-.94-.94-2.06-.94 2.06-2.06.94zm-11 1L8.5 8.5l.94-2.06 2.06-.94-2.06-.94L8.5 2.5l-.94 2.06-2.06.94zm10 10l.94 2.06.94-2.06 2.06-.94-2.06-.94-.94-2.06-.94 2.06-2.06.94z\"/><path d=\"M17.41 7.96l-1.37-1.37c-.4-.4-.92-.59-1.43-.59-.52 0-1.04.2-1.43.59L10.3 9.45l-7.72 7.72c-.78.78-.78 2.05 0 2.83L4 21.41c.39.39.9.59 1.41.59.51 0 1.02-.2 1.41-.59l7.78-7.78 2.81-2.81c.8-.78.8-2.07 0-2.86zM5.41 20L4 18.59l7.72-7.72 1.47 1.35L5.41 20z\"/>\n",
              "  </svg>\n",
              "      </button>\n",
              "      \n",
              "  <style>\n",
              "    .colab-df-container {\n",
              "      display:flex;\n",
              "      flex-wrap:wrap;\n",
              "      gap: 12px;\n",
              "    }\n",
              "\n",
              "    .colab-df-convert {\n",
              "      background-color: #E8F0FE;\n",
              "      border: none;\n",
              "      border-radius: 50%;\n",
              "      cursor: pointer;\n",
              "      display: none;\n",
              "      fill: #1967D2;\n",
              "      height: 32px;\n",
              "      padding: 0 0 0 0;\n",
              "      width: 32px;\n",
              "    }\n",
              "\n",
              "    .colab-df-convert:hover {\n",
              "      background-color: #E2EBFA;\n",
              "      box-shadow: 0px 1px 2px rgba(60, 64, 67, 0.3), 0px 1px 3px 1px rgba(60, 64, 67, 0.15);\n",
              "      fill: #174EA6;\n",
              "    }\n",
              "\n",
              "    [theme=dark] .colab-df-convert {\n",
              "      background-color: #3B4455;\n",
              "      fill: #D2E3FC;\n",
              "    }\n",
              "\n",
              "    [theme=dark] .colab-df-convert:hover {\n",
              "      background-color: #434B5C;\n",
              "      box-shadow: 0px 1px 3px 1px rgba(0, 0, 0, 0.15);\n",
              "      filter: drop-shadow(0px 1px 2px rgba(0, 0, 0, 0.3));\n",
              "      fill: #FFFFFF;\n",
              "    }\n",
              "  </style>\n",
              "\n",
              "      <script>\n",
              "        const buttonEl =\n",
              "          document.querySelector('#df-64c0ac54-83ab-40da-a0d2-4f038326d760 button.colab-df-convert');\n",
              "        buttonEl.style.display =\n",
              "          google.colab.kernel.accessAllowed ? 'block' : 'none';\n",
              "\n",
              "        async function convertToInteractive(key) {\n",
              "          const element = document.querySelector('#df-64c0ac54-83ab-40da-a0d2-4f038326d760');\n",
              "          const dataTable =\n",
              "            await google.colab.kernel.invokeFunction('convertToInteractive',\n",
              "                                                     [key], {});\n",
              "          if (!dataTable) return;\n",
              "\n",
              "          const docLinkHtml = 'Like what you see? Visit the ' +\n",
              "            '<a target=\"_blank\" href=https://colab.research.google.com/notebooks/data_table.ipynb>data table notebook</a>'\n",
              "            + ' to learn more about interactive tables.';\n",
              "          element.innerHTML = '';\n",
              "          dataTable['output_type'] = 'display_data';\n",
              "          await google.colab.output.renderOutput(dataTable, element);\n",
              "          const docLink = document.createElement('div');\n",
              "          docLink.innerHTML = docLinkHtml;\n",
              "          element.appendChild(docLink);\n",
              "        }\n",
              "      </script>\n",
              "    </div>\n",
              "  </div>\n",
              "  "
            ]
          },
          "metadata": {},
          "execution_count": 175
        }
      ],
      "source": [
        "data"
      ]
    },
    {
      "cell_type": "code",
      "execution_count": 176,
      "metadata": {
        "id": "V9QKIqaE_GYc"
      },
      "outputs": [],
      "source": [
        "X_train = np.array([x for x in data['symptoms']])\n",
        "Y_train = np.array(labels)"
      ]
    },
    {
      "cell_type": "code",
      "source": [
        "x_train, x_valid, y_train, y_valid = train_test_split(X_train, Y_train, test_size=0.2, shuffle=True, stratify = Y_train, random_state=34) #0.8의 학습데이터, 0.2의 테스트데이터로 분리"
      ],
      "metadata": {
        "id": "UIndTubJwDr4"
      },
      "execution_count": 177,
      "outputs": []
    },
    {
      "cell_type": "markdown",
      "metadata": {
        "id": "dZw4GQR-_GYd"
      },
      "source": [
        "# **모델링**"
      ]
    },
    {
      "cell_type": "code",
      "execution_count": 178,
      "metadata": {
        "id": "rvrfT2Ka_GYe"
      },
      "outputs": [],
      "source": [
        "#파라미터 설정\n",
        "vocab_size = 178\n",
        "embedding_dim = 8 # 임베딩 차원\n",
        "max_length = 17      # 증상 최대 개수 \n",
        "padding_type='post'"
      ]
    },
    {
      "cell_type": "code",
      "execution_count": 179,
      "metadata": {
        "id": "ql3lE6FL_GYe"
      },
      "outputs": [],
      "source": [
        "#tokenizer에 fit\n",
        "tokenizer = Tokenizer(num_words = vocab_size)#, oov_token=oov_tok)\n",
        "tokenizer.fit_on_texts(x_train)\n",
        "word_index = tokenizer.word_index"
      ]
    },
    {
      "cell_type": "code",
      "source": [
        "word_index"
      ],
      "metadata": {
        "id": "CsAIvKAV_Pke",
        "colab": {
          "base_uri": "https://localhost:8080/"
        },
        "outputId": "ec3d26e9-4035-4a85-af43-de978b11a31c"
      },
      "execution_count": 180,
      "outputs": [
        {
          "output_type": "execute_result",
          "data": {
            "text/plain": [
              "{'손떨림': 1,\n",
              " '가슴 두근거림': 2,\n",
              " '얼굴이 화끈거림': 3,\n",
              " '가슴 답답': 4,\n",
              " '온몸이 떨림': 5,\n",
              " '어지러움': 6,\n",
              " '두통': 7,\n",
              " '오심': 8,\n",
              " '구강건조': 9,\n",
              " '복부팽만감': 10,\n",
              " '구토': 11,\n",
              " '근육통': 12,\n",
              " '권태감': 13,\n",
              " '생리불순': 14,\n",
              " '가슴 쓰림': 15,\n",
              " '저림': 16,\n",
              " '불면증': 17,\n",
              " '환각': 18,\n",
              " '불안': 19,\n",
              " '환청': 20,\n",
              " '가슴 통증': 21,\n",
              " '기운없음': 22,\n",
              " '오한': 23,\n",
              " '발한': 24,\n",
              " '복시': 25,\n",
              " '서맥': 26,\n",
              " '숨막히는 느낌': 27,\n",
              " '고혈압': 28,\n",
              " '죽음에 대한 공포': 29,\n",
              " '저혈압': 30,\n",
              " '청색증': 31,\n",
              " '감정 변화': 32,\n",
              " '언어장애': 33,\n",
              " '초조함': 34,\n",
              " '섬망': 35,\n",
              " '혼돈': 36,\n",
              " '환시': 37,\n",
              " '수면장애': 38,\n",
              " '감각 이상': 39,\n",
              " '기억장애': 40,\n",
              " '피로감': 41,\n",
              " '실인증': 42,\n",
              " '목의 이물감': 43,\n",
              " '조급증': 44,\n",
              " '실행증': 45,\n",
              " '방향감각 상실': 46,\n",
              " '빈뇨': 47,\n",
              " '판단력장애': 48,\n",
              " '빈호흡': 49,\n",
              " '시력 감소': 50,\n",
              " '근육긴장': 51,\n",
              " '복부 불편감': 52,\n",
              " '낮은 자존감': 53,\n",
              " '의식 변화': 54,\n",
              " '대인관계 어려움': 55,\n",
              " '우울': 56,\n",
              " '망상': 57,\n",
              " '건망증': 58,\n",
              " '산만함': 59,\n",
              " '인지장애': 60,\n",
              " '수면 무호흡': 61,\n",
              " '인내심이 부족함': 62,\n",
              " '대화에 불쑥 끼어듬': 63,\n",
              " '복부 통증': 64,\n",
              " '수면 유지가 어려움': 65,\n",
              " '낮 시간대의 졸음': 66,\n",
              " '부정맥': 67,\n",
              " '수면 시작이 어려움': 68,\n",
              " '와해된 행동': 69,\n",
              " '수면 중 이상한 행동': 70,\n",
              " '호흡곤란': 71,\n",
              " '입수면기의 환각': 72,\n",
              " '수면 주기의 변화': 73,\n",
              " '흉부압박감': 74,\n",
              " '와해된 언어': 75,\n",
              " '수면 마비': 76,\n",
              " '피해망상': 77,\n",
              " '지남력 장애': 78,\n",
              " '노출증': 79,\n",
              " '체중감소': 80,\n",
              " '보행이상': 81,\n",
              " '접촉도착증': 82,\n",
              " '정서적 둔마': 83,\n",
              " '비정상적 성적 기호': 84,\n",
              " '말초 신경장애': 85,\n",
              " '무욕증': 86,\n",
              " '소아기호증': 87,\n",
              " '가학증': 88,\n",
              " '피학증': 89,\n",
              " '자살의 위험': 90,\n",
              " '식욕부진': 91,\n",
              " '조절할 수 없는 충동감': 92,\n",
              " '의심': 93,\n",
              " '폭식': 94,\n",
              " '무월경': 95,\n",
              " '삶에 대한 흥미 상실': 96,\n",
              " '수면 후에도 피로함': 97,\n",
              " '자제력 상실 두려움': 98,\n",
              " '약물남용': 99,\n",
              " '성격의변화': 100,\n",
              " '왜곡된 신체상': 101,\n",
              " '낮은 학업 성취': 102,\n",
              " '충동 조절 어려움': 103,\n",
              " '낮은 지능': 104,\n",
              " '긴장': 105,\n",
              " '몽유병': 106,\n",
              " '피부 긴장도 저하': 107,\n",
              " '우유부단함': 108,\n",
              " '에너지가 적음': 109,\n",
              " '광과민성': 110,\n",
              " '반신마비': 111,\n",
              " '시야장애': 112,\n",
              " '정신 지체': 113,\n",
              " '높아진 자존심': 114,\n",
              " '발기부전': 115,\n",
              " '사회성 부족': 116,\n",
              " '읽기 자체의 문제': 117,\n",
              " '읽으려 하지 않음': 118,\n",
              " '눈의 피로': 119,\n",
              " '위험한 행동 반복': 120,\n",
              " '행동장애': 121,\n",
              " '변실금': 122,\n",
              " '비현실감': 123,\n",
              " '말을 많이 함': 124,\n",
              " '애착 상대와 분리 거부': 125,\n",
              " '이상한 소리를 냄': 126,\n",
              " '비정상적인 움직임': 127,\n",
              " '원한': 128,\n",
              " '권리를 강하게 주장': 129,\n",
              " '이상행동': 130,\n",
              " '상동적 행동': 131,\n",
              " '말더듬': 132,\n",
              " '직무 태만': 133,\n",
              " '나쁜 품행': 134,\n",
              " '읽기': 135,\n",
              " '쓰기 능력 부족': 136,\n",
              " '좁은 공간에서의 불안감': 137,\n",
              " '설사': 138,\n",
              " '반복적인 동작': 139,\n",
              " '이성의 옷을 착용함': 140,\n",
              " '정서장애': 141,\n",
              " '관음증': 142,\n",
              " '오후 우울감 완화': 143,\n",
              " '이인증': 144,\n",
              " '병원 쇼핑': 145,\n",
              " '질병에 대한 공포': 146,\n",
              " '마비': 147,\n",
              " '다리 통증': 148,\n",
              " '체중증가': 149,\n",
              " '반사회적 인격장애': 150,\n",
              " '금단증상': 151,\n",
              " '흥분': 152,\n",
              " '거짓 증상 호소': 153,\n",
              " '손발을 계속 움직임': 154,\n",
              " '희망이 없는 느낌': 155,\n",
              " '걸핏하면 눈물지음': 156,\n",
              " '질투': 157,\n",
              " '감각 과민': 158,\n",
              " '신경과민': 159,\n",
              " '충동적 도벽': 160,\n",
              " '고정된 믿음': 161,\n",
              " '운동장애': 162,\n",
              " '거칠어진 피부': 163,\n",
              " '사회적 고립': 164,\n",
              " '수면 중 보행': 165,\n",
              " '깨어나면 기억하지 못함': 166,\n",
              " '눈의 충혈': 167,\n",
              " '무논리증': 168,\n",
              " '정체감 혼란 및 변형': 169,\n",
              " '비관주의': 170,\n",
              " '강박증': 171,\n",
              " '음식섭취 거부': 172,\n",
              " '정서 및 행동의 일탈': 173,\n",
              " '저체중': 174,\n",
              " '야만적 행위': 175,\n",
              " '안구진탕': 176,\n",
              " '사고의 비약': 177}"
            ]
          },
          "metadata": {},
          "execution_count": 180
        }
      ]
    },
    {
      "cell_type": "code",
      "execution_count": 181,
      "metadata": {
        "id": "JIvdzwL9_GYf"
      },
      "outputs": [],
      "source": [
        "#데이터를 sequence로 변환해주고 padding 해줍니다.\n",
        "train_sequences = tokenizer.texts_to_sequences(x_train)\n",
        "train_padded = pad_sequences(train_sequences, padding=padding_type, maxlen=max_length)\n",
        "\n",
        "test_sequences = tokenizer.texts_to_sequences(x_valid)\n",
        "test_padded = pad_sequences(test_sequences, padding=padding_type, maxlen=max_length)"
      ]
    },
    {
      "cell_type": "code",
      "execution_count": 182,
      "metadata": {
        "id": "WY5MPt4x_GYf",
        "outputId": "6dbf755d-063c-4878-c07b-6f0dafa90dd4",
        "colab": {
          "base_uri": "https://localhost:8080/"
        }
      },
      "outputs": [
        {
          "output_type": "execute_result",
          "data": {
            "text/plain": [
              "array([[ 5, 14,  1, ...,  0,  0,  0],\n",
              "       [ 3, 12,  7, ...,  0,  0,  0],\n",
              "       [ 5,  8, 14, ...,  0,  0,  0],\n",
              "       ...,\n",
              "       [ 8,  3, 13, ...,  0,  0,  0],\n",
              "       [ 1,  4,  2, ...,  0,  0,  0],\n",
              "       [ 8,  4,  2, ...,  0,  0,  0]], dtype=int32)"
            ]
          },
          "metadata": {},
          "execution_count": 182
        }
      ],
      "source": [
        "test_padded"
      ]
    },
    {
      "cell_type": "markdown",
      "source": [
        "# ***NLP 모델***"
      ],
      "metadata": {
        "id": "2jVA09oEFGq1"
      }
    },
    {
      "cell_type": "code",
      "execution_count": 183,
      "metadata": {
        "id": "yTp7P7qQ_GYf"
      },
      "outputs": [],
      "source": [
        "#가벼운 NLP모델 생성\n",
        "model = tf.keras.Sequential([\n",
        "    tf.keras.layers.Embedding(vocab_size, embedding_dim, input_length=max_length),\n",
        "    tf.keras.layers.GlobalAveragePooling1D(),\n",
        "    tf.keras.layers.Dense(24, activation='relu'),\n",
        "    tf.keras.layers.Dense(64, activation='softmax')\n",
        "])"
      ]
    },
    {
      "cell_type": "code",
      "execution_count": 184,
      "metadata": {
        "id": "sq-oDbD0_GYg",
        "outputId": "41b80a69-10f2-4277-ef13-61e12b47aabe",
        "colab": {
          "base_uri": "https://localhost:8080/"
        }
      },
      "outputs": [
        {
          "output_type": "stream",
          "name": "stdout",
          "text": [
            "Model: \"sequential_4\"\n",
            "_________________________________________________________________\n",
            " Layer (type)                Output Shape              Param #   \n",
            "=================================================================\n",
            " embedding_4 (Embedding)     (None, 17, 8)             1424      \n",
            "                                                                 \n",
            " global_average_pooling1d_4   (None, 8)                0         \n",
            " (GlobalAveragePooling1D)                                        \n",
            "                                                                 \n",
            " dense_8 (Dense)             (None, 24)                216       \n",
            "                                                                 \n",
            " dense_9 (Dense)             (None, 64)                1600      \n",
            "                                                                 \n",
            "=================================================================\n",
            "Total params: 3,240\n",
            "Trainable params: 3,240\n",
            "Non-trainable params: 0\n",
            "_________________________________________________________________\n",
            "None\n"
          ]
        }
      ],
      "source": [
        "# compile model\n",
        "model.compile(loss='sparse_categorical_crossentropy',\n",
        "              optimizer='adam',\n",
        "              metrics=['accuracy'])\n",
        "\n",
        "# model summary\n",
        "print(model.summary())"
      ]
    },
    {
      "cell_type": "code",
      "execution_count": 185,
      "metadata": {
        "id": "JpkSbup-_GYg",
        "colab": {
          "base_uri": "https://localhost:8080/"
        },
        "outputId": "0ac71e57-29d7-4882-ad70-df6f2f40a796"
      },
      "outputs": [
        {
          "output_type": "stream",
          "name": "stdout",
          "text": [
            "Epoch 1/20\n",
            "1577/1577 - 3s - loss: 0.6236 - accuracy: 0.8887 - val_loss: 0.1849 - val_accuracy: 0.9493 - 3s/epoch - 2ms/step\n",
            "Epoch 2/20\n",
            "1577/1577 - 3s - loss: 0.1167 - accuracy: 0.9706 - val_loss: 0.0903 - val_accuracy: 0.9785 - 3s/epoch - 2ms/step\n",
            "Epoch 3/20\n",
            "1577/1577 - 3s - loss: 0.0669 - accuracy: 0.9838 - val_loss: 0.0622 - val_accuracy: 0.9860 - 3s/epoch - 2ms/step\n",
            "Epoch 4/20\n",
            "1577/1577 - 3s - loss: 0.0466 - accuracy: 0.9884 - val_loss: 0.0490 - val_accuracy: 0.9869 - 3s/epoch - 2ms/step\n",
            "Epoch 5/20\n",
            "1577/1577 - 5s - loss: 0.0360 - accuracy: 0.9897 - val_loss: 0.0395 - val_accuracy: 0.9905 - 5s/epoch - 3ms/step\n",
            "Epoch 6/20\n",
            "1577/1577 - 4s - loss: 0.0283 - accuracy: 0.9930 - val_loss: 0.0332 - val_accuracy: 0.9923 - 4s/epoch - 3ms/step\n",
            "Epoch 7/20\n",
            "1577/1577 - 3s - loss: 0.0231 - accuracy: 0.9939 - val_loss: 0.0282 - val_accuracy: 0.9935 - 3s/epoch - 2ms/step\n",
            "Epoch 8/20\n",
            "1577/1577 - 3s - loss: 0.0196 - accuracy: 0.9945 - val_loss: 0.0252 - val_accuracy: 0.9936 - 3s/epoch - 2ms/step\n",
            "Epoch 9/20\n",
            "1577/1577 - 3s - loss: 0.0169 - accuracy: 0.9952 - val_loss: 0.0226 - val_accuracy: 0.9945 - 3s/epoch - 2ms/step\n",
            "Epoch 10/20\n",
            "1577/1577 - 3s - loss: 0.0150 - accuracy: 0.9955 - val_loss: 0.0203 - val_accuracy: 0.9954 - 3s/epoch - 2ms/step\n",
            "Epoch 11/20\n",
            "1577/1577 - 3s - loss: 0.0131 - accuracy: 0.9964 - val_loss: 0.0185 - val_accuracy: 0.9964 - 3s/epoch - 2ms/step\n",
            "Epoch 12/20\n",
            "1577/1577 - 3s - loss: 0.0118 - accuracy: 0.9966 - val_loss: 0.0172 - val_accuracy: 0.9965 - 3s/epoch - 2ms/step\n",
            "Epoch 13/20\n",
            "1577/1577 - 3s - loss: 0.0106 - accuracy: 0.9966 - val_loss: 0.0157 - val_accuracy: 0.9967 - 3s/epoch - 2ms/step\n",
            "Epoch 14/20\n",
            "1577/1577 - 3s - loss: 0.0096 - accuracy: 0.9970 - val_loss: 0.0152 - val_accuracy: 0.9966 - 3s/epoch - 2ms/step\n",
            "Epoch 15/20\n",
            "1577/1577 - 3s - loss: 0.0090 - accuracy: 0.9968 - val_loss: 0.0143 - val_accuracy: 0.9964 - 3s/epoch - 2ms/step\n",
            "Epoch 16/20\n",
            "1577/1577 - 3s - loss: 0.0084 - accuracy: 0.9969 - val_loss: 0.0143 - val_accuracy: 0.9967 - 3s/epoch - 2ms/step\n",
            "Epoch 17/20\n",
            "1577/1577 - 3s - loss: 0.0080 - accuracy: 0.9971 - val_loss: 0.0130 - val_accuracy: 0.9963 - 3s/epoch - 2ms/step\n",
            "Epoch 18/20\n",
            "1577/1577 - 3s - loss: 0.0076 - accuracy: 0.9969 - val_loss: 0.0128 - val_accuracy: 0.9967 - 3s/epoch - 2ms/step\n",
            "Epoch 19/20\n",
            "1577/1577 - 3s - loss: 0.0072 - accuracy: 0.9970 - val_loss: 0.0126 - val_accuracy: 0.9967 - 3s/epoch - 2ms/step\n",
            "Epoch 20/20\n",
            "1577/1577 - 3s - loss: 0.0070 - accuracy: 0.9970 - val_loss: 0.0122 - val_accuracy: 0.9967 - 3s/epoch - 2ms/step\n"
          ]
        }
      ],
      "source": [
        "# fit model\n",
        "num_epochs = 20\n",
        "#history = model.fit(train_padded, y_train, \n",
        "                    #epochs=1000, verbose=2)\n",
        "history = model.fit(train_padded, y_train, \n",
        "                     epochs=num_epochs, verbose=2, \n",
        "                     validation_split=0.2)"
      ]
    },
    {
      "cell_type": "code",
      "execution_count": 186,
      "metadata": {
        "id": "3RTbdTz9_GYg",
        "outputId": "f1bf12dc-92c3-4d44-9b35-9b54fdad8f5f",
        "colab": {
          "base_uri": "https://localhost:8080/"
        }
      },
      "outputs": [
        {
          "output_type": "stream",
          "name": "stdout",
          "text": [
            "493/493 - 1s - 542ms/epoch - 1ms/step\n"
          ]
        },
        {
          "output_type": "execute_result",
          "data": {
            "text/plain": [
              "array(['신체형 장애', '신체형 장애', '신체형 장애', ..., '신체형 장애', '신체형 장애', '신체형 장애'],\n",
              "      dtype=object)"
            ]
          },
          "metadata": {},
          "execution_count": 186
        }
      ],
      "source": [
        "# 학습된 모델로 테스트 데이터 예측\n",
        "y_prob = model.predict(test_padded, verbose=2) \n",
        "predicted = y_prob.argmax(axis=-1)\n",
        "\n",
        "encoder.classes_[predicted]"
      ]
    },
    {
      "cell_type": "code",
      "source": [
        "getAccuracy(predicted, y_valid)"
      ],
      "metadata": {
        "colab": {
          "base_uri": "https://localhost:8080/"
        },
        "id": "jaJ0TqqOC0I5",
        "outputId": "7ec937b7-1c18-493d-b209-b5474b6eacb0"
      },
      "execution_count": 187,
      "outputs": [
        {
          "output_type": "execute_result",
          "data": {
            "text/plain": [
              "99.70821439898509"
            ]
          },
          "metadata": {},
          "execution_count": 187
        }
      ]
    },
    {
      "cell_type": "markdown",
      "source": [
        "# ***SVM***\n"
      ],
      "metadata": {
        "id": "xE1n6sKsFqTK"
      }
    },
    {
      "cell_type": "code",
      "source": [
        "#SupportVector 모델 학습\n",
        "SVM = svm.SVC(C=1.0, kernel='poly', degree=3, gamma='auto', verbose=True)\n",
        "SVM.fit(train_padded, y_train)"
      ],
      "metadata": {
        "colab": {
          "base_uri": "https://localhost:8080/"
        },
        "id": "qAAMyWpFvY66",
        "outputId": "d47a3b63-22ab-4ee3-ba04-7d304d3239e8"
      },
      "execution_count": null,
      "outputs": [
        {
          "output_type": "stream",
          "name": "stdout",
          "text": [
            "[LibSVM]"
          ]
        }
      ]
    },
    {
      "cell_type": "code",
      "source": [
        "predictions_SVM = SVM.predict(test_padded)\n",
        "predictions_SVM\n",
        "\n",
        "encoder.classes_[predictions_SVM]"
      ],
      "metadata": {
        "id": "NDrtNglpyRS-"
      },
      "execution_count": null,
      "outputs": []
    },
    {
      "cell_type": "markdown",
      "source": [
        "# ***Naive Bayes***"
      ],
      "metadata": {
        "id": "nrOf5VezFtgq"
      }
    },
    {
      "cell_type": "code",
      "source": [
        "#Naive bayes 모델 학습\n",
        "Naive = naive_bayes.MultinomialNB()\n",
        "Naive.fit(train_padded, y_train)"
      ],
      "metadata": {
        "colab": {
          "base_uri": "https://localhost:8080/"
        },
        "id": "oi12g48rywkb",
        "outputId": "924aa823-6f09-4fb0-d1e4-d112cd0da033"
      },
      "execution_count": 188,
      "outputs": [
        {
          "output_type": "execute_result",
          "data": {
            "text/plain": [
              "MultinomialNB()"
            ]
          },
          "metadata": {},
          "execution_count": 188
        }
      ]
    },
    {
      "cell_type": "code",
      "source": [
        "predictions_NB = Naive.predict(test_padded)\n",
        "\n",
        "encoder.classes_[predictions_NB]"
      ],
      "metadata": {
        "colab": {
          "base_uri": "https://localhost:8080/"
        },
        "id": "rbBJ-Z_70EKk",
        "outputId": "6dd8fdbd-2e39-4458-8e61-beb821d4f3b8"
      },
      "execution_count": 189,
      "outputs": [
        {
          "output_type": "execute_result",
          "data": {
            "text/plain": [
              "array(['신체형 장애', '강박 장애', '신체형 장애', ..., '금단 현상', '신체형 장애', '신체형 장애'],\n",
              "      dtype=object)"
            ]
          },
          "metadata": {},
          "execution_count": 189
        }
      ]
    },
    {
      "cell_type": "code",
      "source": [
        "getAccuracy(predictions_NB, y_valid)"
      ],
      "metadata": {
        "colab": {
          "base_uri": "https://localhost:8080/"
        },
        "id": "zBwpULlsCh6B",
        "outputId": "be11eaa0-7d34-4981-af16-990a52177054"
      },
      "execution_count": 190,
      "outputs": [
        {
          "output_type": "execute_result",
          "data": {
            "text/plain": [
              "58.88360291785602"
            ]
          },
          "metadata": {},
          "execution_count": 190
        }
      ]
    },
    {
      "cell_type": "markdown",
      "source": [
        "# ***Decision Tree***"
      ],
      "metadata": {
        "id": "pAhmuiJ0FzTx"
      }
    },
    {
      "cell_type": "code",
      "source": [
        "#DecisionTree 모델 학습\n",
        "DTC = tree.DecisionTreeClassifier()\n",
        "DTC.fit(train_padded, y_train)"
      ],
      "metadata": {
        "colab": {
          "base_uri": "https://localhost:8080/"
        },
        "id": "dAToMXRArmb-",
        "outputId": "8f36020a-110b-4574-9e03-4bd9e126628b"
      },
      "execution_count": 191,
      "outputs": [
        {
          "output_type": "execute_result",
          "data": {
            "text/plain": [
              "DecisionTreeClassifier()"
            ]
          },
          "metadata": {},
          "execution_count": 191
        }
      ]
    },
    {
      "cell_type": "code",
      "source": [
        "predictions_DTC = DTC.predict(test_padded)\n",
        "\n",
        "encoder.classes_[predictions_DTC]"
      ],
      "metadata": {
        "colab": {
          "base_uri": "https://localhost:8080/"
        },
        "id": "ha--niFGr8MN",
        "outputId": "47aefbaa-f86e-4b02-e145-a48f3fde72d2"
      },
      "execution_count": 192,
      "outputs": [
        {
          "output_type": "execute_result",
          "data": {
            "text/plain": [
              "array(['신체형 장애', '신체형 장애', '신체형 장애', ..., '신체형 장애', '신체형 장애', '신체형 장애'],\n",
              "      dtype=object)"
            ]
          },
          "metadata": {},
          "execution_count": 192
        }
      ]
    },
    {
      "cell_type": "code",
      "source": [
        "getAccuracy(predictions_DTC, y_valid)"
      ],
      "metadata": {
        "colab": {
          "base_uri": "https://localhost:8080/"
        },
        "id": "Pra-_dQICriw",
        "outputId": "fe1b198d-656e-4d29-8a1f-daf0454b0cb6"
      },
      "execution_count": 193,
      "outputs": [
        {
          "output_type": "execute_result",
          "data": {
            "text/plain": [
              "99.91753885188709"
            ]
          },
          "metadata": {},
          "execution_count": 193
        }
      ]
    },
    {
      "cell_type": "markdown",
      "source": [
        "---\n",
        "# 여기서부터 추가 \n",
        "\n"
      ],
      "metadata": {
        "id": "R9aScsFPJ4k_"
      }
    },
    {
      "cell_type": "markdown",
      "source": [
        "더이상 입력할 증상이 없으면 종료\n",
        "90%는 넘겨보자\n",
        "\n",
        "안되면 어떤 증상을 물어보지?\n",
        "\n",
        "현재 입력한 증상이 있는 질병중 가장 많이 출현하는 증상을 물어보자 예를 들면\n",
        "\n",
        "\"당신은 (해당 증상)을 가졌을 확률이 높습니다.\"\n",
        "\n",
        "전제\n",
        "1. 환자가 거짓된 증상을 입력하지 않는다\n",
        "2. 오타가 나지 않는다 >> 뛰어쓰기같은건 replace(\" \", \"\")로 처음부터 지우고 나머지는 다시 하라고 하자"
      ],
      "metadata": {
        "id": "mOYHCn1prmQb"
      }
    },
    {
      "cell_type": "code",
      "source": [
        "#증상 목록 출력\n",
        "for i in word_index.keys():\n",
        "  print(i)\n",
        "\n",
        "#첫 증상 입력\n",
        "\n",
        "##증상 입력받을 배열\n",
        "pat_word_index = []\n",
        "\n",
        "pat_symp = input(\"\\n위 증상중 해당하는 증상을 하나씩 입력해주세요 (없으면 엔터) : \")\n",
        "pat_word_index.append(pat_symp)\n",
        "\n",
        "pat_word_array = np.array(pd.Series([pat_word_index]))\n",
        "\n",
        "##데이터를 sequence로 변환해주고 padding 해줍니다.\n",
        "pat_sequences = tokenizer.texts_to_sequences(pat_word_array.tolist())\n",
        "pat_padded = pad_sequences(pat_sequences, padding=padding_type, maxlen=max_length)\n",
        "\n",
        "##확률 계산\n",
        "y_prob = model.predict(pat_padded, verbose=2)\n",
        "predicted = y_prob.argmax(axis=-1)\n",
        "\n",
        "#두번째 이상의 증상 입력\n",
        "while(y_prob[0][predicted[0]] < 0.9 and pat_symp !=''):\n",
        "\n",
        "  print(\"현재 확률은 \", y_prob[0][predicted[0]], \"입니다\")\n",
        "\n",
        "  ##\"당신은 (해당 증상)을 가졌을 확률이 높습니다.\"\n",
        "  #sample_train = train.query('pat_word_index in train[\\'symptoms\\']').copy()\n",
        "  sample_train = np.where(pd.Series(pat_word_index) in train['symptoms'])\n",
        "  print(sample_train)\n",
        "\n",
        "  pat_symp = input(\"\\n증상을 추가로 입력해주세요 (없으면 엔터) : \")\n",
        "  pat_word_index.append(pat_symp)\n",
        "\n",
        "  pat_word_array = np.array(pd.Series([pat_word_index]))\n",
        "\n",
        "  ##데이터를 sequence로 변환해주고 padding 해줍니다.\n",
        "  pat_sequences = tokenizer.texts_to_sequences(pat_word_array.tolist())\n",
        "  pat_padded = pad_sequences(pat_sequences, padding=padding_type, maxlen=max_length)\n",
        "\n",
        "  ##확률 계산\n",
        "  y_prob = model.predict(pat_padded, verbose=2)\n",
        "  predicted = y_prob.argmax(axis=-1)"
      ],
      "metadata": {
        "colab": {
          "base_uri": "https://localhost:8080/",
          "height": 1000
        },
        "id": "v5Y7MHsrhHHP",
        "outputId": "c9156030-d2b0-4ce1-bbdb-7f04ad16f9aa"
      },
      "execution_count": null,
      "outputs": [
        {
          "output_type": "stream",
          "name": "stdout",
          "text": [
            "불안\n",
            "우울\n",
            "언어장애\n",
            "대인관계 어려움\n",
            "망상\n",
            "감정 변화\n",
            "수면장애\n",
            "가슴 두근거림\n",
            "불면증\n",
            "환각\n",
            "산만함\n",
            "기억장애\n",
            "어지러움\n",
            "손떨림\n",
            "초조함\n",
            "인지장애\n",
            "의심\n",
            "조절할 수 없는 충동감\n",
            "얼굴이 화끈거림\n",
            "감각 이상\n",
            "체중감소\n",
            "구토\n",
            "낮은 자존감\n",
            "의식 변화\n",
            "긴장\n",
            "혼돈\n",
            "충동 조절 어려움\n",
            "정신 지체\n",
            "약물남용\n",
            "자살의 위험\n",
            "발한\n",
            "가슴 답답\n",
            "오심\n",
            "온몸이 떨림\n",
            "저혈압\n",
            "두통\n",
            "환청\n",
            "와해된 언어\n",
            "피해망상\n",
            "환시\n",
            "와해된 행동\n",
            "이상행동\n",
            "식욕부진\n",
            "피로감\n",
            "무월경\n",
            "복부 통증\n",
            "폭식\n",
            "권태감\n",
            "복부팽만감\n",
            "저림\n",
            "비현실감\n",
            "피부 긴장도 저하\n",
            "이상한 소리를 냄\n",
            "비정상적인 움직임\n",
            "낮은 지능\n",
            "행동장애\n",
            "지남력 장애\n",
            "섬망\n",
            "대화에 불쑥 끼어듬\n",
            "인내심이 부족함\n",
            "건망증\n",
            "몽유병\n",
            "수면 무호흡\n",
            "성격의변화\n",
            "낮은 학업 성취\n",
            "상동적 행동\n",
            "반복적인 동작\n",
            "숨막히는 느낌\n",
            "가슴 통증\n",
            "죽음에 대한 공포\n",
            "오한\n",
            "복시\n",
            "고혈압\n",
            "서맥\n",
            "청색증\n",
            "기운없음\n",
            "수면 후에도 피로함\n",
            "거칠어진 피부\n",
            "빈호흡\n",
            "빈뇨\n",
            "복부 불편감\n",
            "목의 이물감\n",
            "근육긴장\n",
            "설사\n",
            "체중증가\n",
            "생리불순\n",
            "구강건조\n",
            "근육통\n",
            "가슴 쓰림\n",
            "감각 과민\n",
            "반사회적 인격장애\n",
            "금단증상\n",
            "말을 많이 함\n",
            "높아진 자존심\n",
            "사고의 비약\n",
            "삶에 대한 흥미 상실\n",
            "오후 우울감 완화\n",
            "희망이 없는 느낌\n",
            "걸핏하면 눈물지음\n",
            "무욕증\n",
            "정서적 둔마\n",
            "무논리증\n",
            "다리 통증\n",
            "병원 쇼핑\n",
            "질병에 대한 공포\n",
            "우유부단함\n",
            "에너지가 적음\n",
            "비관주의\n",
            "읽기\n",
            "쓰기 능력 부족\n",
            "반신마비\n",
            "시야장애\n",
            "말더듬\n",
            "고정된 믿음\n",
            "거짓 증상 호소\n",
            "직무 태만\n",
            "나쁜 품행\n",
            "야만적 행위\n",
            "사회성 부족\n",
            "저체중\n",
            "말초 신경장애\n",
            "보행이상\n",
            "안구진탕\n",
            "신경과민\n",
            "충동적 도벽\n",
            "흥분\n",
            "애착 상대와 분리 거부\n",
            "왜곡된 신체상\n",
            "자제력 상실 두려움\n",
            "음식섭취 거부\n",
            "피학증\n",
            "가학증\n",
            "소아기호증\n",
            "노출증\n",
            "비정상적 성적 기호\n",
            "접촉도착증\n",
            "관음증\n",
            "발기부전\n",
            "입수면기의 환각\n",
            "수면 마비\n",
            "수면 중 이상한 행동\n",
            "수면 주기의 변화\n",
            "수면 시작이 어려움\n",
            "낮 시간대의 졸음\n",
            "수면 유지가 어려움\n",
            "수면 중 보행\n",
            "깨어나면 기억하지 못함\n",
            "실인증\n",
            "방향감각 상실\n",
            "시력 감소\n",
            "실행증\n",
            "판단력장애\n",
            "조급증\n",
            "읽기 자체의 문제\n",
            "읽으려 하지 않음\n",
            "눈의 피로\n",
            "광과민성\n",
            "눈의 충혈\n",
            "변실금\n",
            "이성의 옷을 착용함\n",
            "강박증\n",
            "사회적 고립\n",
            "손발을 계속 움직임\n",
            "정서장애\n",
            "원한\n",
            "권리를 강하게 주장\n",
            "질투\n",
            "이인증\n",
            "정체감 혼란 및 변형\n",
            "위험한 행동 반복\n",
            "정서 및 행동의 일탈\n",
            "마비\n",
            "운동장애\n",
            "좁은 공간에서의 불안감\n",
            "흉부압박감\n",
            "부정맥\n",
            "호흡곤란\n",
            "\n",
            "위 증상중 해당하는 증상을 하나씩 입력해주세요 (없으면 엔터) : 불안\n",
            "1/1 - 0s - 15ms/epoch - 15ms/step\n",
            "현재 확률은  0.016337568 입니다\n"
          ]
        },
        {
          "output_type": "error",
          "ename": "TypeError",
          "evalue": "ignored",
          "traceback": [
            "\u001b[0;31m---------------------------------------------------------------------------\u001b[0m",
            "\u001b[0;31mTypeError\u001b[0m                                 Traceback (most recent call last)",
            "\u001b[0;32m<ipython-input-65-f448f9fcc9ed>\u001b[0m in \u001b[0;36m<module>\u001b[0;34m\u001b[0m\n\u001b[1;32m     28\u001b[0m   \u001b[0;31m##\"당신은 (해당 증상)을 가졌을 확률이 높습니다.\"\u001b[0m\u001b[0;34m\u001b[0m\u001b[0;34m\u001b[0m\u001b[0;34m\u001b[0m\u001b[0m\n\u001b[1;32m     29\u001b[0m   \u001b[0;31m#sample_train = train.query('pat_word_index in train[\\'symptoms\\']').copy()\u001b[0m\u001b[0;34m\u001b[0m\u001b[0;34m\u001b[0m\u001b[0;34m\u001b[0m\u001b[0m\n\u001b[0;32m---> 30\u001b[0;31m   \u001b[0msample_train\u001b[0m \u001b[0;34m=\u001b[0m \u001b[0mnp\u001b[0m\u001b[0;34m.\u001b[0m\u001b[0mwhere\u001b[0m\u001b[0;34m(\u001b[0m\u001b[0mpat_word_index\u001b[0m \u001b[0;32min\u001b[0m \u001b[0mtrain\u001b[0m\u001b[0;34m[\u001b[0m\u001b[0;34m'symptoms'\u001b[0m\u001b[0;34m]\u001b[0m\u001b[0;34m)\u001b[0m\u001b[0;34m.\u001b[0m\u001b[0mtolist\u001b[0m\u001b[0;34m(\u001b[0m\u001b[0;34m)\u001b[0m\u001b[0;34m\u001b[0m\u001b[0;34m\u001b[0m\u001b[0m\n\u001b[0m\u001b[1;32m     31\u001b[0m   \u001b[0mprint\u001b[0m\u001b[0;34m(\u001b[0m\u001b[0msample_train\u001b[0m\u001b[0;34m)\u001b[0m\u001b[0;34m\u001b[0m\u001b[0;34m\u001b[0m\u001b[0m\n\u001b[1;32m     32\u001b[0m \u001b[0;34m\u001b[0m\u001b[0m\n",
            "\u001b[0;32m/usr/local/lib/python3.7/dist-packages/pandas/core/generic.py\u001b[0m in \u001b[0;36m__contains__\u001b[0;34m(self, key)\u001b[0m\n\u001b[1;32m   1931\u001b[0m     \u001b[0;32mdef\u001b[0m \u001b[0m__contains__\u001b[0m\u001b[0;34m(\u001b[0m\u001b[0mself\u001b[0m\u001b[0;34m,\u001b[0m \u001b[0mkey\u001b[0m\u001b[0;34m)\u001b[0m \u001b[0;34m->\u001b[0m \u001b[0mbool_t\u001b[0m\u001b[0;34m:\u001b[0m\u001b[0;34m\u001b[0m\u001b[0;34m\u001b[0m\u001b[0m\n\u001b[1;32m   1932\u001b[0m         \u001b[0;34m\"\"\"True if the key is in the info axis\"\"\"\u001b[0m\u001b[0;34m\u001b[0m\u001b[0;34m\u001b[0m\u001b[0m\n\u001b[0;32m-> 1933\u001b[0;31m         \u001b[0;32mreturn\u001b[0m \u001b[0mkey\u001b[0m \u001b[0;32min\u001b[0m \u001b[0mself\u001b[0m\u001b[0;34m.\u001b[0m\u001b[0m_info_axis\u001b[0m\u001b[0;34m\u001b[0m\u001b[0;34m\u001b[0m\u001b[0m\n\u001b[0m\u001b[1;32m   1934\u001b[0m \u001b[0;34m\u001b[0m\u001b[0m\n\u001b[1;32m   1935\u001b[0m     \u001b[0;34m@\u001b[0m\u001b[0mproperty\u001b[0m\u001b[0;34m\u001b[0m\u001b[0;34m\u001b[0m\u001b[0m\n",
            "\u001b[0;32m/usr/local/lib/python3.7/dist-packages/pandas/core/indexes/range.py\u001b[0m in \u001b[0;36m__contains__\u001b[0;34m(self, key)\u001b[0m\n\u001b[1;32m    363\u001b[0m \u001b[0;34m\u001b[0m\u001b[0m\n\u001b[1;32m    364\u001b[0m     \u001b[0;32mdef\u001b[0m \u001b[0m__contains__\u001b[0m\u001b[0;34m(\u001b[0m\u001b[0mself\u001b[0m\u001b[0;34m,\u001b[0m \u001b[0mkey\u001b[0m\u001b[0;34m:\u001b[0m \u001b[0mAny\u001b[0m\u001b[0;34m)\u001b[0m \u001b[0;34m->\u001b[0m \u001b[0mbool\u001b[0m\u001b[0;34m:\u001b[0m\u001b[0;34m\u001b[0m\u001b[0;34m\u001b[0m\u001b[0m\n\u001b[0;32m--> 365\u001b[0;31m         \u001b[0mhash\u001b[0m\u001b[0;34m(\u001b[0m\u001b[0mkey\u001b[0m\u001b[0;34m)\u001b[0m\u001b[0;34m\u001b[0m\u001b[0;34m\u001b[0m\u001b[0m\n\u001b[0m\u001b[1;32m    366\u001b[0m         \u001b[0;32mtry\u001b[0m\u001b[0;34m:\u001b[0m\u001b[0;34m\u001b[0m\u001b[0;34m\u001b[0m\u001b[0m\n\u001b[1;32m    367\u001b[0m             \u001b[0mkey\u001b[0m \u001b[0;34m=\u001b[0m \u001b[0mensure_python_int\u001b[0m\u001b[0;34m(\u001b[0m\u001b[0mkey\u001b[0m\u001b[0;34m)\u001b[0m\u001b[0;34m\u001b[0m\u001b[0;34m\u001b[0m\u001b[0m\n",
            "\u001b[0;31mTypeError\u001b[0m: unhashable type: 'list'"
          ]
        }
      ]
    },
    {
      "cell_type": "code",
      "source": [
        "print(type(train['symptoms']))\n",
        "print(train['symptoms'])\n",
        "print(type(pd.Series(pat_word_index)))\n",
        "print(pd.Series(pat_word_index))\n",
        "\n",
        "print(pd.Series(pat_word_index) in train['symptoms'])"
      ],
      "metadata": {
        "colab": {
          "base_uri": "https://localhost:8080/",
          "height": 481
        },
        "id": "kqaghyV9zFEJ",
        "outputId": "c7ef3a26-f0f9-4a1a-cc33-e58cbd227fd7"
      },
      "execution_count": null,
      "outputs": [
        {
          "output_type": "stream",
          "name": "stdout",
          "text": [
            "<class 'pandas.core.series.Series'>\n",
            "0        [불안, 반복적인 동작, 의심]\n",
            "1            [불안, 반복적인 동작]\n",
            "2                [반복적인 동작]\n",
            "3                     [불안]\n",
            "4                       []\n",
            "               ...        \n",
            "79827              [의식 변화]\n",
            "79828          [흉부압박감, 불안]\n",
            "79829                 [불안]\n",
            "79830              [흉부압박감]\n",
            "79831                   []\n",
            "Name: symptoms, Length: 79832, dtype: object\n"
          ]
        },
        {
          "output_type": "error",
          "ename": "NameError",
          "evalue": "ignored",
          "traceback": [
            "\u001b[0;31m---------------------------------------------------------------------------\u001b[0m",
            "\u001b[0;31mNameError\u001b[0m                                 Traceback (most recent call last)",
            "\u001b[0;32m<ipython-input-25-29c2edd5e97d>\u001b[0m in \u001b[0;36m<module>\u001b[0;34m\u001b[0m\n\u001b[1;32m      1\u001b[0m \u001b[0mprint\u001b[0m\u001b[0;34m(\u001b[0m\u001b[0mtype\u001b[0m\u001b[0;34m(\u001b[0m\u001b[0mtrain\u001b[0m\u001b[0;34m[\u001b[0m\u001b[0;34m'symptoms'\u001b[0m\u001b[0;34m]\u001b[0m\u001b[0;34m)\u001b[0m\u001b[0;34m)\u001b[0m\u001b[0;34m\u001b[0m\u001b[0;34m\u001b[0m\u001b[0m\n\u001b[1;32m      2\u001b[0m \u001b[0mprint\u001b[0m\u001b[0;34m(\u001b[0m\u001b[0mtrain\u001b[0m\u001b[0;34m[\u001b[0m\u001b[0;34m'symptoms'\u001b[0m\u001b[0;34m]\u001b[0m\u001b[0;34m)\u001b[0m\u001b[0;34m\u001b[0m\u001b[0;34m\u001b[0m\u001b[0m\n\u001b[0;32m----> 3\u001b[0;31m \u001b[0mprint\u001b[0m\u001b[0;34m(\u001b[0m\u001b[0mtype\u001b[0m\u001b[0;34m(\u001b[0m\u001b[0mpd\u001b[0m\u001b[0;34m.\u001b[0m\u001b[0mSeries\u001b[0m\u001b[0;34m(\u001b[0m\u001b[0mpat_word_index\u001b[0m\u001b[0;34m)\u001b[0m\u001b[0;34m)\u001b[0m\u001b[0;34m)\u001b[0m\u001b[0;34m\u001b[0m\u001b[0;34m\u001b[0m\u001b[0m\n\u001b[0m\u001b[1;32m      4\u001b[0m \u001b[0mprint\u001b[0m\u001b[0;34m(\u001b[0m\u001b[0mpd\u001b[0m\u001b[0;34m.\u001b[0m\u001b[0mSeries\u001b[0m\u001b[0;34m(\u001b[0m\u001b[0mpat_word_index\u001b[0m\u001b[0;34m)\u001b[0m\u001b[0;34m)\u001b[0m\u001b[0;34m\u001b[0m\u001b[0;34m\u001b[0m\u001b[0m\n\u001b[1;32m      5\u001b[0m \u001b[0;34m\u001b[0m\u001b[0m\n",
            "\u001b[0;31mNameError\u001b[0m: name 'pat_word_index' is not defined"
          ]
        }
      ]
    },
    {
      "cell_type": "code",
      "source": [
        "#결과 출력\n",
        "\n",
        "##확률이 90%가 넘어서 멈춘 경우\n",
        "if(y_prob[0][predicted[0]] >0.9):\n",
        "  print(\"당신의 증상은 \"+str(y_prob[0][predicted[0]])+\"%의 확률로 \"+encoder.classes_[predicted][0]+\" 입니다.\")\n",
        "\n",
        "##더이상 입력을 안한 경우, 즉 입력을 완료한 경우\n",
        "else:\n",
        "  print(\"현재 입력해주신 증상으로는 \"+str(y_prob[0][predicted[0]])+\"%의 확률로 \"+encoder.classes_[predicted][0]+\" 입니다.\")"
      ],
      "metadata": {
        "colab": {
          "base_uri": "https://localhost:8080/"
        },
        "id": "e3wPt82XncXN",
        "outputId": "11f7e703-0c27-4b87-f14e-621f1f844b04"
      },
      "execution_count": null,
      "outputs": [
        {
          "output_type": "stream",
          "name": "stdout",
          "text": [
            "현재 입력해주신 증상으로는 0.2940696%의 확률로 히스테리성 인격장애 입니다.\n"
          ]
        }
      ]
    },
    {
      "cell_type": "markdown",
      "source": [
        "해야 할 내용\n",
        "\n",
        "---\n",
        "\n",
        "* 알코올성 치매, 히스테리성 인격장애는 증상이 없고, 증상이 없는 경우 확률은 30%대가 최대라 판별이 불가능한데 어떻게 해결할까 >> 일정 확률 이상의 질병들을 모두 출력할까?"
      ],
      "metadata": {
        "id": "L4U8e_PIlJwj"
      }
    },
    {
      "cell_type": "code",
      "source": [],
      "metadata": {
        "id": "0gkpOxLfpR_G"
      },
      "execution_count": null,
      "outputs": []
    }
  ],
  "metadata": {
    "kernelspec": {
      "display_name": "Python 3.9.12 ('base')",
      "language": "python",
      "name": "python3"
    },
    "language_info": {
      "codemirror_mode": {
        "name": "ipython",
        "version": 3
      },
      "file_extension": ".py",
      "mimetype": "text/x-python",
      "name": "python",
      "nbconvert_exporter": "python",
      "pygments_lexer": "ipython3",
      "version": "3.9.12"
    },
    "orig_nbformat": 4,
    "vscode": {
      "interpreter": {
        "hash": "a077222d77dfe082b8f1dd562ad70e458ac2ab76993a0b248ab0476e32e9e8dd"
      }
    },
    "colab": {
      "provenance": [],
      "collapsed_sections": [],
      "include_colab_link": true
    }
  },
  "nbformat": 4,
  "nbformat_minor": 0
}